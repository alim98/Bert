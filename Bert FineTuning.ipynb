{
  "cells": [
    {
      "attachments": {},
      "cell_type": "markdown",
      "metadata": {
        "id": "DwNi8-j9Hs3U"
      },
      "source": [
        "# Bert FineTuning"
      ]
    },
    {
      "cell_type": "code",
      "execution_count": 1,
      "metadata": {
        "id": "Vcedp5kShuA3"
      },
      "outputs": [],
      "source": [
        "import pandas as pd\n",
        "import numpy as np\n",
        "import requests\n",
        "from transformers import AutoConfig, AutoTokenizer, AutoModel, AutoModelForSequenceClassification, AdamW\n",
        "from transformers import get_linear_schedule_with_warmup\n",
        "import matplotlib.pyplot as plt\n",
        "import seaborn as sns\n",
        "\n",
        "import torch\n",
        "import torch.nn as nn\n",
        "from torch.utils.data import DataLoader, Dataset\n",
        "from sklearn.metrics import accuracy_score, f1_score, confusion_matrix\n",
        "import seaborn as sns\n",
        "import matplotlib.pyplot as plt\n",
        "\n",
        "import warnings\n",
        "warnings.filterwarnings('ignore')"
      ]
    },
    {
      "attachments": {},
      "cell_type": "markdown",
      "metadata": {
        "id": "5U0ABODkLENq"
      },
      "source": [
        "* download model"
      ]
    },
    {
      "cell_type": "code",
      "execution_count": 2,
      "metadata": {
        "colab": {
          "base_uri": "https://localhost:8080/",
          "height": 168,
          "referenced_widgets": [
            "418fe3fcf5f349de9b6daddd5e4c6155",
            "5f7872766d014062a818ce2e5c5bf51e",
            "1c98aa3762ed41b79072fe671372983c",
            "52bc6d386da945d79e68b3e4572df4a2",
            "61ebd10e9ca24bd79f6966a18f975c33",
            "fb10da548a7645678bec37e5308c757d",
            "2d5dcd3e47c342c4b9eed1f8982874d2",
            "8a644f4d43cb45f8ac426bc98a282151",
            "0e0767cf2b0c4491b72b2243fb0f1218",
            "853b6229b797464db9a31814db4dcb33",
            "af4a5a0f3deb4fb1903336d8ce73579b",
            "dff7585f74294e76a6ebfe998090d31f",
            "5d33a9f601d146e8bdb1bcfc433b92fd",
            "6e4aa2dc0ebe4bd4a0bc36e605e08a78",
            "76d7a9d628c846838a4a7b6eb837ca9c",
            "b01ae256be9b40e1a7c373d9fca67683",
            "f05cd32df60e49d282e52458452c53cb",
            "5ff6e193c2394b998365aeee47e6ee07",
            "3a5c413b687c4e1196caf96f7f9e8a41",
            "dd370b86fb6644f1ac438a7b002e0ac2",
            "29499661a7cb42ec9171951cefcbb02a",
            "fdce13c2e01c4d089cf1de1025751d4d",
            "9f7fe0412e684c2a9f17dd13bb2f7e24",
            "c37a8996eab24318b7b279a07a815fde",
            "3071668876eb4c8ca33ced11f9b0e027",
            "4ead2cc46ae74395a14b2a84088de361",
            "3fdeeed6d7754618b4d2d8935b2158e7",
            "463727b5f50942dbb9f99afb791ec24f",
            "a56dccd5a4cf4e4d9b2ed680522fb59e",
            "9e0a1229a8dd4781827f2157e4aa81d6",
            "3f0f96689be347628012cb5add40a0f1",
            "b444b3cfb63246fab37aba4c13769f48",
            "f9c148e0e29f4f629c795b30f8bd7d23"
          ]
        },
        "id": "ko41Wn7EosOY",
        "outputId": "27a117de-37aa-48a8-aff7-87fc316ca43b"
      },
      "outputs": [
        {
          "data": {
            "application/vnd.jupyter.widget-view+json": {
              "model_id": "418fe3fcf5f349de9b6daddd5e4c6155",
              "version_major": 2,
              "version_minor": 0
            },
            "text/plain": [
              "config.json:   0%|          | 0.00/434 [00:00<?, ?B/s]"
            ]
          },
          "metadata": {},
          "output_type": "display_data"
        },
        {
          "data": {
            "application/vnd.jupyter.widget-view+json": {
              "model_id": "dff7585f74294e76a6ebfe998090d31f",
              "version_major": 2,
              "version_minor": 0
            },
            "text/plain": [
              "vocab.txt:   0%|          | 0.00/1.22M [00:00<?, ?B/s]"
            ]
          },
          "metadata": {},
          "output_type": "display_data"
        },
        {
          "data": {
            "application/vnd.jupyter.widget-view+json": {
              "model_id": "9f7fe0412e684c2a9f17dd13bb2f7e24",
              "version_major": 2,
              "version_minor": 0
            },
            "text/plain": [
              "pytorch_model.bin:   0%|          | 0.00/654M [00:00<?, ?B/s]"
            ]
          },
          "metadata": {},
          "output_type": "display_data"
        },
        {
          "name": "stderr",
          "output_type": "stream",
          "text": [
            "Some weights of BertForSequenceClassification were not initialized from the model checkpoint at HooshvareLab/bert-base-parsbert-uncased and are newly initialized: ['classifier.weight', 'classifier.bias']\n",
            "You should probably TRAIN this model on a down-stream task to be able to use it for predictions and inference.\n"
          ]
        }
      ],
      "source": [
        "model_name = \"HooshvareLab/bert-base-parsbert-uncased\"\n",
        "num_classes = 3\n",
        "\n",
        "config = AutoConfig.from_pretrained(model_name)\n",
        "tokenizer = AutoTokenizer.from_pretrained(model_name)\n",
        "# model = AutoModel.from_pretrained(model_name, num_labels=num_classes)\n",
        "model = AutoModelForSequenceClassification.from_pretrained(model_name, num_labels=num_classes)"
      ]
    },
    {
      "cell_type": "code",
      "execution_count": 4,
      "metadata": {
        "colab": {
          "base_uri": "https://localhost:8080/",
          "height": 862
        },
        "id": "VLG43hbXlaNe",
        "outputId": "ff9219b3-ef0c-42c7-c139-68c101c95fa5"
      },
      "outputs": [
        {
          "name": "stdout",
          "output_type": "stream",
          "text": [
            "Collecting hazm\n",
            "  Using cached hazm-0.9.4-py3-none-any.whl (371 kB)\n",
            "Collecting fasttext-wheel<0.10.0,>=0.9.2 (from hazm)\n",
            "  Using cached fasttext_wheel-0.9.2-cp310-cp310-manylinux_2_17_x86_64.manylinux2014_x86_64.whl (4.4 MB)\n",
            "Collecting flashtext<3.0,>=2.7 (from hazm)\n",
            "  Using cached flashtext-2.7.tar.gz (14 kB)\n",
            "  Preparing metadata (setup.py) ... \u001b[?25l\u001b[?25hdone\n",
            "Requirement already satisfied: gensim<5.0.0,>=4.3.1 in /usr/local/lib/python3.10/dist-packages (from hazm) (4.3.2)\n",
            "Requirement already satisfied: nltk<4.0.0,>=3.8.1 in /usr/local/lib/python3.10/dist-packages (from hazm) (3.8.1)\n",
            "Collecting numpy==1.24.3 (from hazm)\n",
            "  Using cached numpy-1.24.3-cp310-cp310-manylinux_2_17_x86_64.manylinux2014_x86_64.whl (17.3 MB)\n",
            "Collecting python-crfsuite<0.10.0,>=0.9.9 (from hazm)\n",
            "  Downloading python_crfsuite-0.9.10-cp310-cp310-manylinux_2_17_x86_64.manylinux2014_x86_64.whl (1.1 MB)\n",
            "\u001b[2K     \u001b[90m━━━━━━━━━━━━━━━━━━━━━━━━━━━━━━━━━━━━━━━━\u001b[0m \u001b[32m1.1/1.1 MB\u001b[0m \u001b[31m17.4 MB/s\u001b[0m eta \u001b[36m0:00:00\u001b[0m\n",
            "\u001b[?25hRequirement already satisfied: scikit-learn<2.0.0,>=1.2.2 in /usr/local/lib/python3.10/dist-packages (from hazm) (1.2.2)\n",
            "Collecting pybind11>=2.2 (from fasttext-wheel<0.10.0,>=0.9.2->hazm)\n",
            "  Downloading pybind11-2.11.1-py3-none-any.whl (227 kB)\n",
            "\u001b[2K     \u001b[90m━━━━━━━━━━━━━━━━━━━━━━━━━━━━━━━━━━━━━━━━\u001b[0m \u001b[32m227.7/227.7 kB\u001b[0m \u001b[31m24.4 MB/s\u001b[0m eta \u001b[36m0:00:00\u001b[0m\n",
            "\u001b[?25hRequirement already satisfied: setuptools>=0.7.0 in /usr/local/lib/python3.10/dist-packages (from fasttext-wheel<0.10.0,>=0.9.2->hazm) (67.7.2)\n",
            "Requirement already satisfied: scipy>=1.7.0 in /usr/local/lib/python3.10/dist-packages (from gensim<5.0.0,>=4.3.1->hazm) (1.11.4)\n",
            "Requirement already satisfied: smart-open>=1.8.1 in /usr/local/lib/python3.10/dist-packages (from gensim<5.0.0,>=4.3.1->hazm) (6.4.0)\n",
            "Requirement already satisfied: click in /usr/local/lib/python3.10/dist-packages (from nltk<4.0.0,>=3.8.1->hazm) (8.1.7)\n",
            "Requirement already satisfied: joblib in /usr/local/lib/python3.10/dist-packages (from nltk<4.0.0,>=3.8.1->hazm) (1.3.2)\n",
            "Requirement already satisfied: regex>=2021.8.3 in /usr/local/lib/python3.10/dist-packages (from nltk<4.0.0,>=3.8.1->hazm) (2023.6.3)\n",
            "Requirement already satisfied: tqdm in /usr/local/lib/python3.10/dist-packages (from nltk<4.0.0,>=3.8.1->hazm) (4.66.1)\n",
            "Requirement already satisfied: threadpoolctl>=2.0.0 in /usr/local/lib/python3.10/dist-packages (from scikit-learn<2.0.0,>=1.2.2->hazm) (3.2.0)\n",
            "Building wheels for collected packages: flashtext\n",
            "  Building wheel for flashtext (setup.py) ... \u001b[?25l\u001b[?25hdone\n",
            "  Created wheel for flashtext: filename=flashtext-2.7-py2.py3-none-any.whl size=9296 sha256=0bd254ae647e8182000a9d35e31da5273727bee504b2974269fbb3ead43c3745\n",
            "  Stored in directory: /root/.cache/pip/wheels/bc/be/39/c37ad168eb2ff644c9685f52554440372129450f0b8ed203dd\n",
            "Successfully built flashtext\n",
            "Installing collected packages: python-crfsuite, flashtext, pybind11, numpy, fasttext-wheel, hazm\n",
            "  Attempting uninstall: numpy\n",
            "    Found existing installation: numpy 1.23.5\n",
            "    Uninstalling numpy-1.23.5:\n",
            "      Successfully uninstalled numpy-1.23.5\n",
            "\u001b[31mERROR: pip's dependency resolver does not currently take into account all the packages that are installed. This behaviour is the source of the following dependency conflicts.\n",
            "lida 0.0.10 requires fastapi, which is not installed.\n",
            "lida 0.0.10 requires kaleido, which is not installed.\n",
            "lida 0.0.10 requires python-multipart, which is not installed.\n",
            "lida 0.0.10 requires uvicorn, which is not installed.\u001b[0m\u001b[31m\n",
            "\u001b[0mSuccessfully installed fasttext-wheel-0.9.2 flashtext-2.7 hazm-0.9.4 numpy-1.24.3 pybind11-2.11.1 python-crfsuite-0.9.10\n"
          ]
        },
        {
          "data": {
            "application/vnd.colab-display-data+json": {
              "pip_warning": {
                "packages": [
                  "numpy"
                ]
              }
            }
          },
          "metadata": {},
          "output_type": "display_data"
        }
      ],
      "source": [
        "!pip install hazm\n",
        "\n",
        "import hazm"
      ]
    },
    {
      "cell_type": "code",
      "execution_count": null,
      "metadata": {
        "colab": {
          "base_uri": "https://localhost:8080/"
        },
        "id": "5xTPB3VJuZEl",
        "outputId": "808b53cd-d10e-4314-a774-0b90cac268a1"
      },
      "outputs": [
        {
          "name": "stdout",
          "output_type": "stream",
          "text": [
            "Raw text:\n",
            " مـا معـتـقـدیـم بـا انتقـال  صحیح دانش و آگـاهی، همّه افراد می توانند از ابزارهای هوشمند استفاده کنند. شعار ما هوش مصنوعی برای همه است.\n",
            "Normalized text:\n",
            " ما معتقدیم با انتقال صحیح دانش و آگاهی، همه افراد می‌توانند از ابزارهای هوشمند استفاده کنند. شعار ما هوش مصنوعی برای همه است.\n",
            "Filter stopwords:\n",
            " معتقدیم انتقال صحیح دانش آگاهی، ابزارهای هوشمند استفاده کنند. شعار هوش مصنوعی است.\n",
            "\n",
            "Raw txt tokens num: 27\n",
            "Normalized txt tokens num: 26\n",
            "Filtered tokens num: 16\n"
          ]
        }
      ],
      "source": [
        "text = \"مـا معـتـقـدیـم بـا انتقـال  صحیح دانش و آگـاهی، همّه افراد می توانند از ابزارهای هوشمند استفاده کنند. شعار ما هوش مصنوعی برای همه است.\"\n",
        "print(\"Raw text:\\n\",text)\n",
        "# Normalize text\n",
        "normalizer = hazm.Normalizer()\n",
        "normalized_text = normalizer.normalize(text)\n",
        "print(\"Normalized text:\\n\",normalized_text)\n",
        "# Filter stopwords\n",
        "non_stop_text = ' '.join(word for word in normalized_text.split() if word not in hazm.stopwords_list())\n",
        "print(\"Filter stopwords:\\n\",non_stop_text)\n",
        "\n",
        "print('\\nRaw txt tokens num:',len(tokenizer.tokenize(text)))\n",
        "print('Normalized txt tokens num:',len(tokenizer.tokenize(normalized_text)))\n",
        "print('Filtered tokens num:',len(tokenizer.tokenize(non_stop_text)))"
      ]
    },
    {
      "cell_type": "code",
      "execution_count": 5,
      "metadata": {
        "colab": {
          "base_uri": "https://localhost:8080/"
        },
        "id": "Jsecl1bRuwKU",
        "outputId": "0ed8f8b6-a931-4fed-a683-99a0b7d002d7"
      },
      "outputs": [
        {
          "data": {
            "text/plain": [
              "BertForSequenceClassification(\n",
              "  (bert): BertModel(\n",
              "    (embeddings): BertEmbeddings(\n",
              "      (word_embeddings): Embedding(100000, 768, padding_idx=0)\n",
              "      (position_embeddings): Embedding(512, 768)\n",
              "      (token_type_embeddings): Embedding(2, 768)\n",
              "      (LayerNorm): LayerNorm((768,), eps=1e-12, elementwise_affine=True)\n",
              "      (dropout): Dropout(p=0.1, inplace=False)\n",
              "    )\n",
              "    (encoder): BertEncoder(\n",
              "      (layer): ModuleList(\n",
              "        (0-11): 12 x BertLayer(\n",
              "          (attention): BertAttention(\n",
              "            (self): BertSelfAttention(\n",
              "              (query): Linear(in_features=768, out_features=768, bias=True)\n",
              "              (key): Linear(in_features=768, out_features=768, bias=True)\n",
              "              (value): Linear(in_features=768, out_features=768, bias=True)\n",
              "              (dropout): Dropout(p=0.1, inplace=False)\n",
              "            )\n",
              "            (output): BertSelfOutput(\n",
              "              (dense): Linear(in_features=768, out_features=768, bias=True)\n",
              "              (LayerNorm): LayerNorm((768,), eps=1e-12, elementwise_affine=True)\n",
              "              (dropout): Dropout(p=0.1, inplace=False)\n",
              "            )\n",
              "          )\n",
              "          (intermediate): BertIntermediate(\n",
              "            (dense): Linear(in_features=768, out_features=3072, bias=True)\n",
              "            (intermediate_act_fn): GELUActivation()\n",
              "          )\n",
              "          (output): BertOutput(\n",
              "            (dense): Linear(in_features=3072, out_features=768, bias=True)\n",
              "            (LayerNorm): LayerNorm((768,), eps=1e-12, elementwise_affine=True)\n",
              "            (dropout): Dropout(p=0.1, inplace=False)\n",
              "          )\n",
              "        )\n",
              "      )\n",
              "    )\n",
              "    (pooler): BertPooler(\n",
              "      (dense): Linear(in_features=768, out_features=768, bias=True)\n",
              "      (activation): Tanh()\n",
              "    )\n",
              "  )\n",
              "  (dropout): Dropout(p=0.1, inplace=False)\n",
              "  (classifier): Linear(in_features=768, out_features=3, bias=True)\n",
              ")"
            ]
          },
          "execution_count": 5,
          "metadata": {},
          "output_type": "execute_result"
        }
      ],
      "source": [
        "model"
      ]
    },
    {
      "attachments": {},
      "cell_type": "markdown",
      "metadata": {
        "id": "dVN9zc1BLLqs"
      },
      "source": [
        "* download dataset"
      ]
    },
    {
      "cell_type": "code",
      "execution_count": 6,
      "metadata": {
        "colab": {
          "base_uri": "https://localhost:8080/"
        },
        "id": "x46ALqI3louc",
        "outputId": "3cd8ade1-f280-415e-d863-6a70286ccae2"
      },
      "outputs": [
        {
          "name": "stderr",
          "output_type": "stream",
          "text": [
            "Downloading...\n",
            "From: https://github.com/dml-qom/FarsTail/archive/refs/heads/master.zip\n",
            "To: /content/code.zip\n",
            "1.61MB [00:00, 3.85MB/s]\n"
          ]
        }
      ],
      "source": [
        "# !pip install gdown\n",
        "\n",
        "import gdown\n",
        "import zipfile\n",
        "import os\n",
        "\n",
        "github_url = \"https://github.com/dml-qom/FarsTail/archive/refs/heads/master.zip\"\n",
        "zip_file_path = \"code.zip\"\n",
        "\n",
        "gdown.download(github_url, zip_file_path, quiet=False)\n",
        "\n",
        "if os.path.exists(zip_file_path):\n",
        "    with zipfile.ZipFile(zip_file_path, 'r') as zip_ref:\n",
        "        zip_ref.extractall()\n",
        "    os.remove(zip_file_path)"
      ]
    },
    {
      "cell_type": "code",
      "execution_count": 7,
      "metadata": {
        "id": "X_o5D7jmsEZo"
      },
      "outputs": [],
      "source": [
        "os.chdir('/content/FarsTail-master/data')\n",
        "train_data = pd.read_csv('Train-word.csv', sep='\\t')\n",
        "val_data = pd.read_csv('Val-word.csv', sep='\\t')\n",
        "test_data = pd.read_csv('Test-word.csv', sep='\\t')\n",
        "df = pd.concat([train_data, val_data, test_data], axis=0)\n",
        "os.chdir('/content')"
      ]
    },
    {
      "attachments": {},
      "cell_type": "markdown",
      "metadata": {
        "id": "TVrPl-k5EL5m"
      },
      "source": [
        "## Q2.1: preprocess dataset"
      ]
    },
    {
      "cell_type": "code",
      "execution_count": null,
      "metadata": {
        "colab": {
          "base_uri": "https://localhost:8080/"
        },
        "id": "zvLwAt-a0zT2",
        "outputId": "20007881-351a-4283-cff3-adafb48cd1b4"
      },
      "outputs": [
        {
          "name": "stdout",
          "output_type": "stream",
          "text": [
            "Train data:\t<class 'pandas.core.frame.DataFrame'>\n",
            "RangeIndex: 7266 entries, 0 to 7265\n",
            "Data columns (total 3 columns):\n",
            " #   Column      Non-Null Count  Dtype \n",
            "---  ------      --------------  ----- \n",
            " 0   premise     7266 non-null   object\n",
            " 1   hypothesis  7266 non-null   object\n",
            " 2   label       7266 non-null   object\n",
            "dtypes: object(3)\n",
            "memory usage: 170.4+ KB\n",
            "None\n",
            "\n",
            "Valid data:\t<class 'pandas.core.frame.DataFrame'>\n",
            "RangeIndex: 1537 entries, 0 to 1536\n",
            "Data columns (total 3 columns):\n",
            " #   Column      Non-Null Count  Dtype \n",
            "---  ------      --------------  ----- \n",
            " 0   premise     1537 non-null   object\n",
            " 1   hypothesis  1537 non-null   object\n",
            " 2   label       1537 non-null   object\n",
            "dtypes: object(3)\n",
            "memory usage: 36.1+ KB\n",
            "None\n",
            "\n",
            "Test data:\t<class 'pandas.core.frame.DataFrame'>\n",
            "RangeIndex: 1564 entries, 0 to 1563\n",
            "Data columns (total 5 columns):\n",
            " #   Column            Non-Null Count  Dtype \n",
            "---  ------            --------------  ----- \n",
            " 0   premise           1564 non-null   object\n",
            " 1   hypothesis        1564 non-null   object\n",
            " 2   label             1564 non-null   object\n",
            " 3   hard(hypothesis)  1564 non-null   int64 \n",
            " 4   hard(overlap)     1564 non-null   int64 \n",
            "dtypes: int64(2), object(3)\n",
            "memory usage: 61.2+ KB\n",
            "None\n"
          ]
        }
      ],
      "source": [
        "print('Train data:',end='\\t')\n",
        "print(train_data.info())\n",
        "print('\\nValid data:',end='\\t')\n",
        "print(val_data.info())\n",
        "print('\\nTest data:',end='\\t')\n",
        "print(test_data.info())"
      ]
    },
    {
      "cell_type": "code",
      "execution_count": null,
      "metadata": {
        "colab": {
          "base_uri": "https://localhost:8080/",
          "height": 379
        },
        "id": "I5lktljzPS2y",
        "outputId": "a65bfb76-2816-4a47-e152-51d4cc924d48"
      },
      "outputs": [
        {
          "data": {
            "text/html": [
              "\n",
              "  <div id=\"df-95f2d980-25e7-4a10-ab91-5834a5ac6fca\" class=\"colab-df-container\">\n",
              "    <div>\n",
              "<style scoped>\n",
              "    .dataframe tbody tr th:only-of-type {\n",
              "        vertical-align: middle;\n",
              "    }\n",
              "\n",
              "    .dataframe tbody tr th {\n",
              "        vertical-align: top;\n",
              "    }\n",
              "\n",
              "    .dataframe thead th {\n",
              "        text-align: right;\n",
              "    }\n",
              "</style>\n",
              "<table border=\"1\" class=\"dataframe\">\n",
              "  <thead>\n",
              "    <tr style=\"text-align: right;\">\n",
              "      <th></th>\n",
              "      <th>premise</th>\n",
              "      <th>hypothesis</th>\n",
              "      <th>label</th>\n",
              "      <th>hard(hypothesis)</th>\n",
              "      <th>hard(overlap)</th>\n",
              "    </tr>\n",
              "  </thead>\n",
              "  <tbody>\n",
              "    <tr>\n",
              "      <th>0</th>\n",
              "      <td>دوران امامت امام صادق علیه السلام، مصادف است ب...</td>\n",
              "      <td>امام سجاد (ع) در دورانی امامت کردند که همزمان ...</td>\n",
              "      <td>c</td>\n",
              "      <td>0</td>\n",
              "      <td>1</td>\n",
              "    </tr>\n",
              "    <tr>\n",
              "      <th>1</th>\n",
              "      <td>دوران امامت امام صادق علیه السلام، مصادف است ب...</td>\n",
              "      <td>دستگاه فاسد حکومتی با صرف هزینه های هنگفت، سعی...</td>\n",
              "      <td>n</td>\n",
              "      <td>1</td>\n",
              "      <td>0</td>\n",
              "    </tr>\n",
              "    <tr>\n",
              "      <th>2</th>\n",
              "      <td>با شهادت امام رضا(ع) مرحله جدیدی از تلاش ائمه ...</td>\n",
              "      <td>دوران محنت اهل بیت پس از شهادت امام رضا(ع) آغا...</td>\n",
              "      <td>e</td>\n",
              "      <td>0</td>\n",
              "      <td>0</td>\n",
              "    </tr>\n",
              "    <tr>\n",
              "      <th>3</th>\n",
              "      <td>با شهادت امام رضا(ع) مرحله جدیدی از تلاش ائمه ...</td>\n",
              "      <td>بعد از به شهادت رسیدن امام هادی(ع) دوران محنت ...</td>\n",
              "      <td>c</td>\n",
              "      <td>1</td>\n",
              "      <td>1</td>\n",
              "    </tr>\n",
              "    <tr>\n",
              "      <th>4</th>\n",
              "      <td>با شهادت امام رضا(ع) مرحله جدیدی از تلاش ائمه ...</td>\n",
              "      <td>حضرت جواد(ع) در سال ۱۹۵ هجری در مدینه ولادت یافت.</td>\n",
              "      <td>n</td>\n",
              "      <td>1</td>\n",
              "      <td>0</td>\n",
              "    </tr>\n",
              "  </tbody>\n",
              "</table>\n",
              "</div>\n",
              "    <div class=\"colab-df-buttons\">\n",
              "\n",
              "  <div class=\"colab-df-container\">\n",
              "    <button class=\"colab-df-convert\" onclick=\"convertToInteractive('df-95f2d980-25e7-4a10-ab91-5834a5ac6fca')\"\n",
              "            title=\"Convert this dataframe to an interactive table.\"\n",
              "            style=\"display:none;\">\n",
              "\n",
              "  <svg xmlns=\"http://www.w3.org/2000/svg\" height=\"24px\" viewBox=\"0 -960 960 960\">\n",
              "    <path d=\"M120-120v-720h720v720H120Zm60-500h600v-160H180v160Zm220 220h160v-160H400v160Zm0 220h160v-160H400v160ZM180-400h160v-160H180v160Zm440 0h160v-160H620v160ZM180-180h160v-160H180v160Zm440 0h160v-160H620v160Z\"/>\n",
              "  </svg>\n",
              "    </button>\n",
              "\n",
              "  <style>\n",
              "    .colab-df-container {\n",
              "      display:flex;\n",
              "      gap: 12px;\n",
              "    }\n",
              "\n",
              "    .colab-df-convert {\n",
              "      background-color: #E8F0FE;\n",
              "      border: none;\n",
              "      border-radius: 50%;\n",
              "      cursor: pointer;\n",
              "      display: none;\n",
              "      fill: #1967D2;\n",
              "      height: 32px;\n",
              "      padding: 0 0 0 0;\n",
              "      width: 32px;\n",
              "    }\n",
              "\n",
              "    .colab-df-convert:hover {\n",
              "      background-color: #E2EBFA;\n",
              "      box-shadow: 0px 1px 2px rgba(60, 64, 67, 0.3), 0px 1px 3px 1px rgba(60, 64, 67, 0.15);\n",
              "      fill: #174EA6;\n",
              "    }\n",
              "\n",
              "    .colab-df-buttons div {\n",
              "      margin-bottom: 4px;\n",
              "    }\n",
              "\n",
              "    [theme=dark] .colab-df-convert {\n",
              "      background-color: #3B4455;\n",
              "      fill: #D2E3FC;\n",
              "    }\n",
              "\n",
              "    [theme=dark] .colab-df-convert:hover {\n",
              "      background-color: #434B5C;\n",
              "      box-shadow: 0px 1px 3px 1px rgba(0, 0, 0, 0.15);\n",
              "      filter: drop-shadow(0px 1px 2px rgba(0, 0, 0, 0.3));\n",
              "      fill: #FFFFFF;\n",
              "    }\n",
              "  </style>\n",
              "\n",
              "    <script>\n",
              "      const buttonEl =\n",
              "        document.querySelector('#df-95f2d980-25e7-4a10-ab91-5834a5ac6fca button.colab-df-convert');\n",
              "      buttonEl.style.display =\n",
              "        google.colab.kernel.accessAllowed ? 'block' : 'none';\n",
              "\n",
              "      async function convertToInteractive(key) {\n",
              "        const element = document.querySelector('#df-95f2d980-25e7-4a10-ab91-5834a5ac6fca');\n",
              "        const dataTable =\n",
              "          await google.colab.kernel.invokeFunction('convertToInteractive',\n",
              "                                                    [key], {});\n",
              "        if (!dataTable) return;\n",
              "\n",
              "        const docLinkHtml = 'Like what you see? Visit the ' +\n",
              "          '<a target=\"_blank\" href=https://colab.research.google.com/notebooks/data_table.ipynb>data table notebook</a>'\n",
              "          + ' to learn more about interactive tables.';\n",
              "        element.innerHTML = '';\n",
              "        dataTable['output_type'] = 'display_data';\n",
              "        await google.colab.output.renderOutput(dataTable, element);\n",
              "        const docLink = document.createElement('div');\n",
              "        docLink.innerHTML = docLinkHtml;\n",
              "        element.appendChild(docLink);\n",
              "      }\n",
              "    </script>\n",
              "  </div>\n",
              "\n",
              "\n",
              "<div id=\"df-d09d740d-10bb-4cd3-a508-7197fcaf0bef\">\n",
              "  <button class=\"colab-df-quickchart\" onclick=\"quickchart('df-d09d740d-10bb-4cd3-a508-7197fcaf0bef')\"\n",
              "            title=\"Suggest charts\"\n",
              "            style=\"display:none;\">\n",
              "\n",
              "<svg xmlns=\"http://www.w3.org/2000/svg\" height=\"24px\"viewBox=\"0 0 24 24\"\n",
              "     width=\"24px\">\n",
              "    <g>\n",
              "        <path d=\"M19 3H5c-1.1 0-2 .9-2 2v14c0 1.1.9 2 2 2h14c1.1 0 2-.9 2-2V5c0-1.1-.9-2-2-2zM9 17H7v-7h2v7zm4 0h-2V7h2v10zm4 0h-2v-4h2v4z\"/>\n",
              "    </g>\n",
              "</svg>\n",
              "  </button>\n",
              "\n",
              "<style>\n",
              "  .colab-df-quickchart {\n",
              "      --bg-color: #E8F0FE;\n",
              "      --fill-color: #1967D2;\n",
              "      --hover-bg-color: #E2EBFA;\n",
              "      --hover-fill-color: #174EA6;\n",
              "      --disabled-fill-color: #AAA;\n",
              "      --disabled-bg-color: #DDD;\n",
              "  }\n",
              "\n",
              "  [theme=dark] .colab-df-quickchart {\n",
              "      --bg-color: #3B4455;\n",
              "      --fill-color: #D2E3FC;\n",
              "      --hover-bg-color: #434B5C;\n",
              "      --hover-fill-color: #FFFFFF;\n",
              "      --disabled-bg-color: #3B4455;\n",
              "      --disabled-fill-color: #666;\n",
              "  }\n",
              "\n",
              "  .colab-df-quickchart {\n",
              "    background-color: var(--bg-color);\n",
              "    border: none;\n",
              "    border-radius: 50%;\n",
              "    cursor: pointer;\n",
              "    display: none;\n",
              "    fill: var(--fill-color);\n",
              "    height: 32px;\n",
              "    padding: 0;\n",
              "    width: 32px;\n",
              "  }\n",
              "\n",
              "  .colab-df-quickchart:hover {\n",
              "    background-color: var(--hover-bg-color);\n",
              "    box-shadow: 0 1px 2px rgba(60, 64, 67, 0.3), 0 1px 3px 1px rgba(60, 64, 67, 0.15);\n",
              "    fill: var(--button-hover-fill-color);\n",
              "  }\n",
              "\n",
              "  .colab-df-quickchart-complete:disabled,\n",
              "  .colab-df-quickchart-complete:disabled:hover {\n",
              "    background-color: var(--disabled-bg-color);\n",
              "    fill: var(--disabled-fill-color);\n",
              "    box-shadow: none;\n",
              "  }\n",
              "\n",
              "  .colab-df-spinner {\n",
              "    border: 2px solid var(--fill-color);\n",
              "    border-color: transparent;\n",
              "    border-bottom-color: var(--fill-color);\n",
              "    animation:\n",
              "      spin 1s steps(1) infinite;\n",
              "  }\n",
              "\n",
              "  @keyframes spin {\n",
              "    0% {\n",
              "      border-color: transparent;\n",
              "      border-bottom-color: var(--fill-color);\n",
              "      border-left-color: var(--fill-color);\n",
              "    }\n",
              "    20% {\n",
              "      border-color: transparent;\n",
              "      border-left-color: var(--fill-color);\n",
              "      border-top-color: var(--fill-color);\n",
              "    }\n",
              "    30% {\n",
              "      border-color: transparent;\n",
              "      border-left-color: var(--fill-color);\n",
              "      border-top-color: var(--fill-color);\n",
              "      border-right-color: var(--fill-color);\n",
              "    }\n",
              "    40% {\n",
              "      border-color: transparent;\n",
              "      border-right-color: var(--fill-color);\n",
              "      border-top-color: var(--fill-color);\n",
              "    }\n",
              "    60% {\n",
              "      border-color: transparent;\n",
              "      border-right-color: var(--fill-color);\n",
              "    }\n",
              "    80% {\n",
              "      border-color: transparent;\n",
              "      border-right-color: var(--fill-color);\n",
              "      border-bottom-color: var(--fill-color);\n",
              "    }\n",
              "    90% {\n",
              "      border-color: transparent;\n",
              "      border-bottom-color: var(--fill-color);\n",
              "    }\n",
              "  }\n",
              "</style>\n",
              "\n",
              "  <script>\n",
              "    async function quickchart(key) {\n",
              "      const quickchartButtonEl =\n",
              "        document.querySelector('#' + key + ' button');\n",
              "      quickchartButtonEl.disabled = true;  // To prevent multiple clicks.\n",
              "      quickchartButtonEl.classList.add('colab-df-spinner');\n",
              "      try {\n",
              "        const charts = await google.colab.kernel.invokeFunction(\n",
              "            'suggestCharts', [key], {});\n",
              "      } catch (error) {\n",
              "        console.error('Error during call to suggestCharts:', error);\n",
              "      }\n",
              "      quickchartButtonEl.classList.remove('colab-df-spinner');\n",
              "      quickchartButtonEl.classList.add('colab-df-quickchart-complete');\n",
              "    }\n",
              "    (() => {\n",
              "      let quickchartButtonEl =\n",
              "        document.querySelector('#df-d09d740d-10bb-4cd3-a508-7197fcaf0bef button');\n",
              "      quickchartButtonEl.style.display =\n",
              "        google.colab.kernel.accessAllowed ? 'block' : 'none';\n",
              "    })();\n",
              "  </script>\n",
              "</div>\n",
              "    </div>\n",
              "  </div>\n"
            ],
            "text/plain": [
              "                                             premise  \\\n",
              "0  دوران امامت امام صادق علیه السلام، مصادف است ب...   \n",
              "1  دوران امامت امام صادق علیه السلام، مصادف است ب...   \n",
              "2  با شهادت امام رضا(ع) مرحله جدیدی از تلاش ائمه ...   \n",
              "3  با شهادت امام رضا(ع) مرحله جدیدی از تلاش ائمه ...   \n",
              "4  با شهادت امام رضا(ع) مرحله جدیدی از تلاش ائمه ...   \n",
              "\n",
              "                                          hypothesis label  hard(hypothesis)  \\\n",
              "0  امام سجاد (ع) در دورانی امامت کردند که همزمان ...     c                 0   \n",
              "1  دستگاه فاسد حکومتی با صرف هزینه های هنگفت، سعی...     n                 1   \n",
              "2  دوران محنت اهل بیت پس از شهادت امام رضا(ع) آغا...     e                 0   \n",
              "3  بعد از به شهادت رسیدن امام هادی(ع) دوران محنت ...     c                 1   \n",
              "4  حضرت جواد(ع) در سال ۱۹۵ هجری در مدینه ولادت یافت.     n                 1   \n",
              "\n",
              "   hard(overlap)  \n",
              "0              1  \n",
              "1              0  \n",
              "2              0  \n",
              "3              1  \n",
              "4              0  "
            ]
          },
          "execution_count": 23,
          "metadata": {},
          "output_type": "execute_result"
        }
      ],
      "source": [
        "test_data.head()"
      ]
    },
    {
      "attachments": {},
      "cell_type": "markdown",
      "metadata": {
        "id": "cPvob9CP0pyt"
      },
      "source": [
        "* Class Distribution:"
      ]
    },
    {
      "cell_type": "code",
      "execution_count": null,
      "metadata": {
        "colab": {
          "base_uri": "https://localhost:8080/",
          "height": 536
        },
        "id": "GUCWqrpglEDz",
        "outputId": "def1dabd-ee07-402e-ec35-37248ca793d3"
      },
      "outputs": [
        {
          "name": "stdout",
          "output_type": "stream",
          "text": [
            "Class Distribution:\n",
            "n    3506\n",
            "e    3463\n",
            "c    3398\n",
            "Name: label, dtype: int64\n"
          ]
        },
        {
          "data": {
            "image/png": "[encoded data removed]",
            "text/plain": [
              "<Figure size 640x480 with 1 Axes>"
            ]
          },
          "metadata": {},
          "output_type": "display_data"
        }
      ],
      "source": [
        "class_distribution = df['label'].value_counts()\n",
        "print(\"Class Distribution:\")\n",
        "print(class_distribution)\n",
        "\n",
        "sns.countplot(data=df, x='label')\n",
        "plt.show()"
      ]
    },
    {
      "attachments": {},
      "cell_type": "markdown",
      "metadata": {
        "id": "8U-yI_Ac4gyx"
      },
      "source": [
        "* Encode labels"
      ]
    },
    {
      "cell_type": "code",
      "execution_count": 8,
      "metadata": {
        "colab": {
          "base_uri": "https://localhost:8080/"
        },
        "id": "hRMiNXqqSSgx",
        "outputId": "609d2f6c-9d0c-4d47-dd68-52bf1dee7f92"
      },
      "outputs": [
        {
          "name": "stdout",
          "output_type": "stream",
          "text": [
            "Labels: ['e' 'c' 'n']\n",
            "Encoded labels: [1 0 2]\n"
          ]
        }
      ],
      "source": [
        "from sklearn.preprocessing import LabelEncoder\n",
        "\n",
        "le = LabelEncoder()\n",
        "\n",
        "print('Labels:',df['label'].unique())\n",
        "train_data['label'] = le.fit_transform(train_data['label'])\n",
        "val_data['label'] = le.fit_transform(val_data['label'])\n",
        "test_data['label'] = le.fit_transform(test_data['label'])\n",
        "print('Encoded labels:',train_data['label'].unique())"
      ]
    },
    {
      "attachments": {},
      "cell_type": "markdown",
      "metadata": {
        "id": "AP9-CK_jyGut"
      },
      "source": [
        "* Normalize dataset"
      ]
    },
    {
      "cell_type": "code",
      "execution_count": 9,
      "metadata": {
        "id": "Ycmg45zcylpq"
      },
      "outputs": [],
      "source": [
        "normalizer = hazm.Normalizer()\n",
        "\n",
        "train_data['premise'] = train_data['premise'].apply(lambda x: normalizer.normalize(x))\n",
        "train_data['hypothesis'] = train_data['hypothesis'].apply(lambda x: normalizer.normalize(x))\n",
        "val_data['premise'] = val_data['premise'].apply(lambda x: normalizer.normalize(x))\n",
        "val_data['hypothesis'] = val_data['hypothesis'].apply(lambda x: normalizer.normalize(x))\n",
        "test_data['premise'] = test_data['premise'].apply(lambda x: normalizer.normalize(x))\n",
        "test_data['hypothesis'] = test_data['hypothesis'].apply(lambda x: normalizer.normalize(x))\n",
        "\n",
        "df = pd.concat([train_data, val_data, test_data], axis=0)"
      ]
    },
    {
      "attachments": {},
      "cell_type": "markdown",
      "metadata": {
        "id": "Q90gDqBjHli3"
      },
      "source": [
        "* Distribution of Sentence Lengths"
      ]
    },
    {
      "cell_type": "code",
      "execution_count": null,
      "metadata": {
        "colab": {
          "base_uri": "https://localhost:8080/"
        },
        "id": "SmGED64R4xTc",
        "outputId": "e186f6bc-dc3d-4b17-fa4e-bf12414b1490"
      },
      "outputs": [
        {
          "name": "stdout",
          "output_type": "stream",
          "text": [
            "Sentence Lengths (in tokens):\n",
            "Mean: 56.254750651104466\n",
            "Median: 54.0\n",
            "Maximum: 150\n",
            "Minimum: 13\n"
          ]
        }
      ],
      "source": [
        "premise_lengths = df['premise'].apply(lambda x: len(tokenizer.tokenize(x)))\n",
        "hypothesis_lengths = df['hypothesis'].apply(lambda x: len(tokenizer.tokenize(x)))\n",
        "\n",
        "combined_lengths = premise_lengths + hypothesis_lengths\n",
        "\n",
        "print(\"Sentence Lengths (in tokens):\")\n",
        "print(\"Mean:\", combined_lengths.mean())\n",
        "print(\"Median:\", combined_lengths.median())\n",
        "print(\"Maximum:\", combined_lengths.max())\n",
        "print(\"Minimum:\", combined_lengths.min())"
      ]
    },
    {
      "cell_type": "code",
      "execution_count": null,
      "metadata": {
        "colab": {
          "base_uri": "https://localhost:8080/",
          "height": 472
        },
        "id": "d231rpSO5XVr",
        "outputId": "37075207-2c1c-42f6-c421-f382cfc5ac25"
      },
      "outputs": [
        {
          "data": {
            "image/png": "[encoded data removed]",
            "text/plain": [
              "<Figure size 640x480 with 1 Axes>"
            ]
          },
          "metadata": {},
          "output_type": "display_data"
        }
      ],
      "source": [
        "plt.hist(combined_lengths, bins=30, edgecolor='white')\n",
        "plt.title('Distribution of Sentence Lengths')\n",
        "plt.xlabel('Number of Tokens')\n",
        "plt.ylabel('Frequency')\n",
        "plt.show()"
      ]
    },
    {
      "attachments": {},
      "cell_type": "markdown",
      "metadata": {
        "id": "0Lbkwlc0Ln3W"
      },
      "source": [
        "## Q2.2: fine-tuning all layers"
      ]
    },
    {
      "cell_type": "code",
      "execution_count": 10,
      "metadata": {
        "colab": {
          "base_uri": "https://localhost:8080/"
        },
        "id": "u8Gl-1u6bvTB",
        "outputId": "6c5371f3-f090-4a8a-e5a0-ecd95fc05d29"
      },
      "outputs": [
        {
          "name": "stdout",
          "output_type": "stream",
          "text": [
            "cuda\n"
          ]
        }
      ],
      "source": [
        "# move to GPU\n",
        "device = torch.device('cuda' if torch.cuda.is_available() else 'cpu')\n",
        "model.to(device)\n",
        "print(device)"
      ]
    },
    {
      "attachments": {},
      "cell_type": "markdown",
      "metadata": {
        "id": "bzwzWeEJO2Mj"
      },
      "source": [
        "* Define fine-tuning dataset class"
      ]
    },
    {
      "cell_type": "code",
      "execution_count": 11,
      "metadata": {
        "id": "yD3E0lN77TtW"
      },
      "outputs": [],
      "source": [
        "class CustomDataset(Dataset):\n",
        "    def __init__(self, data, tokenizer, max_length=160):\n",
        "        self.data = data\n",
        "        self.tokenizer = tokenizer\n",
        "        self.max_length = max_length\n",
        "\n",
        "    def __len__(self):\n",
        "        return len(self.data)\n",
        "\n",
        "    def __getitem__(self, idx):\n",
        "        premise = str(self.data.iloc[idx]['premise'])\n",
        "        hypothesis = str(self.data.iloc[idx]['hypothesis'])\n",
        "        label = int(self.data.iloc[idx]['label'])\n",
        "\n",
        "        encoding = self.tokenizer(\n",
        "            premise,\n",
        "            hypothesis,\n",
        "            truncation=True,\n",
        "            padding='max_length',\n",
        "            max_length=self.max_length,\n",
        "            return_tensors='pt'\n",
        "        )\n",
        "\n",
        "        return {\n",
        "            'input_ids': encoding['input_ids'].flatten(),\n",
        "            'attention_mask': encoding['attention_mask'].flatten(),\n",
        "            'label': torch.tensor(label, dtype=torch.long)\n",
        "        }"
      ]
    },
    {
      "attachments": {},
      "cell_type": "markdown",
      "metadata": {
        "id": "_Obe0gl9O7Mn"
      },
      "source": [
        "* Define training parameters"
      ]
    },
    {
      "cell_type": "code",
      "execution_count": null,
      "metadata": {
        "id": "mhv04W6CsbDb"
      },
      "outputs": [],
      "source": [
        "optimizer = AdamW(model.parameters(), lr=2e-5)\n",
        "scheduler = get_linear_schedule_with_warmup(optimizer, num_warmup_steps=0, num_training_steps=len(train_data))\n",
        "criterion = nn.CrossEntropyLoss()"
      ]
    },
    {
      "attachments": {},
      "cell_type": "markdown",
      "metadata": {
        "id": "5euAbcrxPAT1"
      },
      "source": [
        "* Create DataLoader instances for train, validation, and test sets"
      ]
    },
    {
      "cell_type": "code",
      "execution_count": 12,
      "metadata": {
        "id": "PPvNr8gPOtYP"
      },
      "outputs": [],
      "source": [
        "train_dataset = CustomDataset(train_data, tokenizer)\n",
        "val_dataset = CustomDataset(val_data, tokenizer)\n",
        "test_dataset = CustomDataset(test_data, tokenizer)\n",
        "\n",
        "batch_size=32\n",
        "\n",
        "train_dataloader = DataLoader(train_dataset, batch_size=batch_size, shuffle=True)\n",
        "val_dataloader = DataLoader(val_dataset, batch_size=batch_size, shuffle=False)\n",
        "test_dataloader = DataLoader(test_dataset, batch_size=batch_size, shuffle=False)"
      ]
    },
    {
      "attachments": {},
      "cell_type": "markdown",
      "metadata": {
        "id": "ls4q1003QZT6"
      },
      "source": [
        "* Training loop"
      ]
    },
    {
      "cell_type": "code",
      "execution_count": 13,
      "metadata": {
        "id": "LdYYiZu9hoBz"
      },
      "outputs": [],
      "source": [
        "def fine_tune_and_validation_model(model,num_epochs = 3):\n",
        "    train_loss_list = []\n",
        "    val_loss_list = []\n",
        "    accuracy_list = []\n",
        "\n",
        "    # Train\n",
        "    for epoch in range(num_epochs):\n",
        "        model.train()\n",
        "        train_losses = []\n",
        "\n",
        "        for batch in train_dataloader:\n",
        "            input_ids = batch['input_ids'].to(device)\n",
        "            attention_mask = batch['attention_mask'].to(device)\n",
        "            labels = batch['label'].to(device)\n",
        "\n",
        "            optimizer.zero_grad()\n",
        "\n",
        "            outputs = model(input_ids, attention_mask=attention_mask, labels=labels)\n",
        "            loss = outputs.loss\n",
        "            loss.backward()\n",
        "            optimizer.step()\n",
        "            scheduler.step()\n",
        "\n",
        "            train_losses.append(loss.item())\n",
        "\n",
        "        train_loss = sum(train_losses) / len(train_losses)\n",
        "        train_loss_list.append(train_loss)\n",
        "\n",
        "        # Validation\n",
        "        model.eval()\n",
        "        val_losses = []\n",
        "        val_predictions = []\n",
        "        val_labels = []\n",
        "\n",
        "        with torch.no_grad():\n",
        "            for batch in val_dataloader:\n",
        "                input_ids = batch['input_ids'].to(device)\n",
        "                attention_mask = batch['attention_mask'].to(device)\n",
        "                labels = batch['label'].to(device)\n",
        "\n",
        "                outputs = model(input_ids, attention_mask=attention_mask, labels=labels)\n",
        "                loss = outputs.loss\n",
        "                logits = outputs.logits\n",
        "\n",
        "                val_losses.append(loss.item())\n",
        "                val_predictions.extend(torch.argmax(logits, dim=1).cpu().numpy())\n",
        "                val_labels.extend(labels.cpu().numpy())\n",
        "\n",
        "        val_loss = sum(val_losses) / len(val_losses)\n",
        "        val_loss_list.append(val_loss)\n",
        "\n",
        "        # Evaluation metrics on validation set\n",
        "        accuracy = accuracy_score(val_labels, val_predictions)\n",
        "        accuracy_list.append(accuracy)\n",
        "\n",
        "        print(f'Epoch {epoch + 1}/{num_epochs} - '\n",
        "            f'Train Loss: {train_loss:.4f} - '\n",
        "            f'Validation Loss: {val_loss:.4f} - '\n",
        "            f'Accuracy: {accuracy:.4f}')\n",
        "\n",
        "    return train_loss_list, val_loss_list, accuracy_list"
      ]
    },
    {
      "cell_type": "code",
      "execution_count": null,
      "metadata": {
        "id": "a35GgQPXi-xv"
      },
      "outputs": [],
      "source": [
        "train_loss_list, val_loss_list, accuracy_list = fine_tune_and_validation_model(model,num_epochs = 5)"
      ]
    },
    {
      "cell_type": "code",
      "execution_count": null,
      "metadata": {
        "id": "cKpJKuD5oKsE"
      },
      "outputs": [],
      "source": [
        "torch.save(model.state_dict(), 'fine_tuned_model.pth')"
      ]
    },
    {
      "attachments": {},
      "cell_type": "markdown",
      "metadata": {
        "id": "VHwb5ndDROpP"
      },
      "source": [
        "* Test set evaluation"
      ]
    },
    {
      "cell_type": "code",
      "execution_count": 25,
      "metadata": {
        "id": "PTe9B1qwktxe"
      },
      "outputs": [],
      "source": [
        "def test_set_evaluation(model):\n",
        "    model.eval()\n",
        "    test_predictions = []\n",
        "    test_labels = []\n",
        "\n",
        "    with torch.no_grad():\n",
        "        for batch in test_dataloader:\n",
        "            input_ids = batch['input_ids'].to(device)\n",
        "            attention_mask = batch['attention_mask'].to(device)\n",
        "            labels = batch['label'].to(device)\n",
        "\n",
        "            outputs = model(input_ids, attention_mask=attention_mask, labels=labels)\n",
        "            logits = outputs.logits\n",
        "\n",
        "            test_predictions.extend(torch.argmax(logits, dim=1).cpu().numpy())\n",
        "            test_labels.extend(labels.cpu().numpy())\n",
        "\n",
        "    # Evaluation metrics on the test set\n",
        "    test_accuracy = accuracy_score(test_labels, test_predictions)\n",
        "    test_f1 = f1_score(test_labels, test_predictions, average='weighted')\n",
        "    conf_matrix = confusion_matrix(test_labels, test_predictions)\n",
        "\n",
        "    print(f'Test Accuracy: {test_accuracy:.4f}')\n",
        "    print(f'Test F1 Score: {test_f1:.4f}')\n",
        "    print('Confusion Matrix:')\n",
        "    print(conf_matrix)"
      ]
    },
    {
      "cell_type": "code",
      "execution_count": null,
      "metadata": {
        "colab": {
          "base_uri": "https://localhost:8080/"
        },
        "id": "j72VWZjURH5Z",
        "outputId": "1b589d64-9873-49e3-f209-bf233d939a89"
      },
      "outputs": [
        {
          "name": "stdout",
          "output_type": "stream",
          "text": [
            "Test Accuracy: 0.8229\n",
            "Test F1 Score: 0.8217\n",
            "Confusion Matrix:\n",
            "[[366  88  56]\n",
            " [ 66 441  12]\n",
            " [ 43  12 480]]\n"
          ]
        }
      ],
      "source": [
        "test_set_evaluation(model)"
      ]
    },
    {
      "attachments": {},
      "cell_type": "markdown",
      "metadata": {
        "id": "4h6V7tx9RTPJ"
      },
      "source": [
        "* Plotting the training and validation curves"
      ]
    },
    {
      "cell_type": "code",
      "execution_count": 14,
      "metadata": {
        "id": "LEOonNRQqpQ2"
      },
      "outputs": [],
      "source": [
        "def plot_loss_accuracy_changes(train_loss_list, val_loss_list, accuracy_list):\n",
        "    plt.figure(figsize=(12, 6))\n",
        "    plt.subplot(1, 2, 1)\n",
        "    plt.plot(train_loss_list, '-o', label='Train Loss')\n",
        "    plt.plot(val_loss_list, '-^', label='Validation Loss')\n",
        "    plt.xlabel('Epochs')\n",
        "    plt.ylabel('Loss')\n",
        "    plt.legend()\n",
        "\n",
        "    plt.subplot(1, 2, 2)\n",
        "    plt.plot(accuracy_list,'-s', label='Validation Accuracy')\n",
        "    plt.xlabel('Epochs')\n",
        "    plt.ylabel('Accuracy')\n",
        "    plt.legend()\n",
        "\n",
        "    plt.show()"
      ]
    },
    {
      "cell_type": "code",
      "execution_count": null,
      "metadata": {
        "colab": {
          "base_uri": "https://localhost:8080/",
          "height": 368
        },
        "id": "RA6TvJmTBzma",
        "outputId": "0fc5a039-8fc6-43e3-dc38-3b836d842cb6"
      },
      "outputs": [
        {
          "data": {
            "image/png": "[encoded data removed]",
            "text/plain": [
              "<Figure size 1200x600 with 2 Axes>"
            ]
          },
          "metadata": {},
          "output_type": "display_data"
        }
      ],
      "source": [
        "plot_loss_accuracy_changes(train_loss_list, val_loss_list, accuracy_list)"
      ]
    },
    {
      "attachments": {},
      "cell_type": "markdown",
      "metadata": {
        "id": "PDsKKu-NsU6n"
      },
      "source": [
        "## Q2.3:"
      ]
    },
    {
      "cell_type": "code",
      "execution_count": 16,
      "metadata": {
        "id": "Bh_0ZZsafPEi"
      },
      "outputs": [],
      "source": [
        "# Free GPU RAM\n",
        "model.to('cpu');\n",
        "del model\n",
        "torch.cuda.empty_cache()"
      ]
    },
    {
      "cell_type": "code",
      "execution_count": null,
      "metadata": {
        "id": "yrP-oLIfjWaj"
      },
      "outputs": [],
      "source": [
        "model = AutoModelForSequenceClassification.from_pretrained(model_name, num_labels=num_classes)\n",
        "model.to(device);"
      ]
    },
    {
      "attachments": {},
      "cell_type": "markdown",
      "metadata": {
        "id": "UIyFVYyug017"
      },
      "source": [
        "* freeze the embeddings and the weights of the first 9 layers"
      ]
    },
    {
      "cell_type": "code",
      "execution_count": null,
      "metadata": {
        "id": "v8lhveGIxOkQ"
      },
      "outputs": [],
      "source": [
        "for param in model.base_model.embeddings.parameters():\n",
        "    param.requires_grad = False\n",
        "\n",
        "for i in range(9):\n",
        "    for name, param in model.base_model.encoder.layer[i].named_parameters():\n",
        "        param.requires_grad = False\n",
        "\n",
        "params = [param for param in model.parameters() if param.requires_grad]\n",
        "optimizer = AdamW(model.parameters(), lr=2e-5)\n",
        "scheduler = get_linear_schedule_with_warmup(optimizer, num_warmup_steps=0, num_training_steps=len(train_data))"
      ]
    },
    {
      "cell_type": "code",
      "execution_count": null,
      "metadata": {
        "colab": {
          "base_uri": "https://localhost:8080/"
        },
        "id": "K0LoSsMEgetY",
        "outputId": "00d27c89-b57f-4737-8c3d-283a44fa5450"
      },
      "outputs": [
        {
          "name": "stdout",
          "output_type": "stream",
          "text": [
            "Epoch 1/5 - Train Loss: 0.9312 - Validation Loss: 0.7258 - Accuracy: 0.6688\n",
            "Epoch 2/5 - Train Loss: 0.7308 - Validation Loss: 0.6398 - Accuracy: 0.7072\n",
            "Epoch 3/5 - Train Loss: 0.6237 - Validation Loss: 0.5968 - Accuracy: 0.7319\n",
            "Epoch 4/5 - Train Loss: 0.5474 - Validation Loss: 0.5627 - Accuracy: 0.7450\n",
            "Epoch 5/5 - Train Loss: 0.4700 - Validation Loss: 0.5621 - Accuracy: 0.7541\n"
          ]
        }
      ],
      "source": [
        "train_loss_list, val_loss_list, accuracy_list = fine_tune_and_validation_model(model,num_epochs = 5)"
      ]
    },
    {
      "cell_type": "code",
      "execution_count": null,
      "metadata": {
        "colab": {
          "base_uri": "https://localhost:8080/"
        },
        "id": "WCT6PX84k5uY",
        "outputId": "85e9c03b-18de-43b9-99d9-2f24d2966449"
      },
      "outputs": [
        {
          "name": "stdout",
          "output_type": "stream",
          "text": [
            "Test Accuracy: 0.7864\n",
            "Test F1 Score: 0.7835\n",
            "Confusion Matrix:\n",
            "[[320 138  52]\n",
            " [ 44 453  22]\n",
            " [ 42  36 457]]\n"
          ]
        }
      ],
      "source": [
        "test_set_evaluation(model)"
      ]
    },
    {
      "cell_type": "code",
      "execution_count": null,
      "metadata": {
        "colab": {
          "base_uri": "https://localhost:8080/",
          "height": 387
        },
        "id": "q3S84BcV74g0",
        "outputId": "45e2ce83-43a8-4095-cac8-effd59cbac48"
      },
      "outputs": [
        {
          "data": {
            "image/png": "[encoded data removed]",
            "text/plain": [
              "<Figure size 1200x600 with 2 Axes>"
            ]
          },
          "metadata": {},
          "output_type": "display_data"
        }
      ],
      "source": [
        "plot_loss_accuracy_changes(train_loss_list, val_loss_list, accuracy_list)"
      ]
    },
    {
      "cell_type": "code",
      "execution_count": null,
      "metadata": {
        "colab": {
          "base_uri": "https://localhost:8080/",
          "height": 448
        },
        "id": "LwNvOpHNk6Lx",
        "outputId": "dad8164f-d9f2-41ce-b11a-8010040db1fe"
      },
      "outputs": [
        {
          "data": {
            "image/png": "[encoded data removed]",
            "text/plain": [
              "<Figure size 1200x600 with 2 Axes>"
            ]
          },
          "metadata": {},
          "output_type": "display_data"
        }
      ],
      "source": [
        "# fine-tune model without normalization dataset\n",
        "plot_loss_accuracy_changes(train_loss_list, val_loss_list, accuracy_list)"
      ]
    },
    {
      "attachments": {},
      "cell_type": "markdown",
      "metadata": {
        "id": "RLDP3JYwiSVc"
      },
      "source": [
        "* freeze all layers except output layer"
      ]
    },
    {
      "cell_type": "code",
      "execution_count": 20,
      "metadata": {
        "colab": {
          "base_uri": "https://localhost:8080/"
        },
        "id": "q7D46Lvy8xPd",
        "outputId": "dc25c972-0688-4e48-ea4e-5f4283e3c37e"
      },
      "outputs": [
        {
          "name": "stderr",
          "output_type": "stream",
          "text": [
            "Some weights of BertForSequenceClassification were not initialized from the model checkpoint at HooshvareLab/bert-base-parsbert-uncased and are newly initialized: ['classifier.weight', 'classifier.bias']\n",
            "You should probably TRAIN this model on a down-stream task to be able to use it for predictions and inference.\n"
          ]
        }
      ],
      "source": [
        "model.to('cpu');\n",
        "del model\n",
        "torch.cuda.empty_cache()\n",
        "model = AutoModelForSequenceClassification.from_pretrained(model_name, num_labels=num_classes)\n",
        "model.to(device);"
      ]
    },
    {
      "cell_type": "code",
      "execution_count": 21,
      "metadata": {
        "id": "Kqr2mEHAESFp"
      },
      "outputs": [],
      "source": [
        "for name, param in model.named_parameters():\n",
        "    if 'classifier' in name:\n",
        "        param.requires_grad = True\n",
        "    else:\n",
        "        param.requires_grad = False\n",
        "\n",
        "params = [param for param in model.parameters() if param.requires_grad]\n",
        "optimizer = AdamW(model.parameters(), lr=2e-5)\n",
        "scheduler = get_linear_schedule_with_warmup(optimizer, num_warmup_steps=0, num_training_steps=len(train_data))\n",
        "criterion = nn.CrossEntropyLoss()"
      ]
    },
    {
      "cell_type": "code",
      "execution_count": 22,
      "metadata": {
        "colab": {
          "base_uri": "https://localhost:8080/"
        },
        "id": "qYgcT0pfF41q",
        "outputId": "82334aa5-deaa-4d8b-afc9-15ad78e7aee0"
      },
      "outputs": [
        {
          "name": "stdout",
          "output_type": "stream",
          "text": [
            "Epoch 1/5 - Train Loss: 1.0974 - Validation Loss: 1.0890 - Accuracy: 0.3748\n",
            "Epoch 2/5 - Train Loss: 1.0896 - Validation Loss: 1.0821 - Accuracy: 0.4047\n",
            "Epoch 3/5 - Train Loss: 1.0812 - Validation Loss: 1.0764 - Accuracy: 0.4242\n",
            "Epoch 4/5 - Train Loss: 1.0794 - Validation Loss: 1.0721 - Accuracy: 0.4320\n",
            "Epoch 5/5 - Train Loss: 1.0748 - Validation Loss: 1.0692 - Accuracy: 0.4314\n"
          ]
        }
      ],
      "source": [
        "train_loss_list, val_loss_list, accuracy_list = fine_tune_and_validation_model(model,num_epochs = 5)"
      ]
    },
    {
      "cell_type": "code",
      "execution_count": 26,
      "metadata": {
        "colab": {
          "base_uri": "https://localhost:8080/"
        },
        "id": "YyT-nmDOIYvP",
        "outputId": "763af004-d865-4407-970f-f09c8720e7bf"
      },
      "outputs": [
        {
          "name": "stdout",
          "output_type": "stream",
          "text": [
            "Test Accuracy: 0.4322\n",
            "Test F1 Score: 0.4233\n",
            "Confusion Matrix:\n",
            "[[153 227 130]\n",
            " [119 322  78]\n",
            " [142 192 201]]\n"
          ]
        }
      ],
      "source": [
        "test_set_evaluation(model)"
      ]
    },
    {
      "cell_type": "code",
      "execution_count": 24,
      "metadata": {
        "colab": {
          "base_uri": "https://localhost:8080/",
          "height": 362
        },
        "id": "pn0laeQdIfFs",
        "outputId": "dfaaf12d-7cb1-42fa-d314-5c84d84b6591"
      },
      "outputs": [
        {
          "data": {
            "image/png": "[encoded data removed]",
            "text/plain": [
              "<Figure size 1200x600 with 2 Axes>"
            ]
          },
          "metadata": {},
          "output_type": "display_data"
        }
      ],
      "source": [
        "plot_loss_accuracy_changes(train_loss_list, val_loss_list, accuracy_list)"
      ]
    },
    {
      "cell_type": "code",
      "execution_count": null,
      "metadata": {
        "id": "iB68T8z4OotO"
      },
      "outputs": [],
      "source": []
    },
    {
      "attachments": {},
      "cell_type": "markdown",
      "metadata": {
        "id": "HOiRbKMrSYAo"
      },
      "source": [
        "## Q2.4:"
      ]
    },
    {
      "cell_type": "code",
      "execution_count": 27,
      "metadata": {
        "id": "YpUrmdIXY0aV"
      },
      "outputs": [],
      "source": [
        "class CustomBertModel(nn.Module):\n",
        "    def __init__(self, num_labels=2):\n",
        "        super(CustomBertModel, self).__init__()\n",
        "        # Load the pre-trained BERT model\n",
        "        self.bert = AutoModelForSequenceClassification.from_pretrained(\"HooshvareLab/bert-base-parsbert-uncased\", num_labels=num_labels)\n",
        "        # Retain the first 9 layers\n",
        "        self.bert.bert.encoder.layer = self.bert.bert.encoder.layer[:9]\n",
        "        # Retain the classifier layer\n",
        "        self.classifier = self.bert.classifier\n",
        "\n",
        "    def forward(self, input_ids, attention_mask=None, labels=None):\n",
        "        return self.bert(input_ids, attention_mask=attention_mask, labels=labels)"
      ]
    },
    {
      "cell_type": "code",
      "execution_count": null,
      "metadata": {
        "id": "eeGHUQy5Sadt"
      },
      "outputs": [],
      "source": [
        "custom_model = CustomBertModel(num_labels=num_classes)\n",
        "custom_model.to(device)\n",
        "\n",
        "optimizer = AdamW(custom_model.parameters(), lr=2e-5)\n",
        "scheduler = get_linear_schedule_with_warmup(optimizer, num_warmup_steps=0, num_training_steps=len(train_data))\n"
      ]
    },
    {
      "cell_type": "code",
      "execution_count": 29,
      "metadata": {
        "colab": {
          "base_uri": "https://localhost:8080/"
        },
        "id": "q5aE4VuhbXcy",
        "outputId": "9694991d-a698-4b56-d1bb-5d3b7d1a1548"
      },
      "outputs": [
        {
          "name": "stdout",
          "output_type": "stream",
          "text": [
            "Epoch 1/5 - Train Loss: 0.8089 - Validation Loss: 0.6120 - Accuracy: 0.7372\n",
            "Epoch 2/5 - Train Loss: 0.4908 - Validation Loss: 0.5438 - Accuracy: 0.7788\n",
            "Epoch 3/5 - Train Loss: 0.3053 - Validation Loss: 0.6033 - Accuracy: 0.7866\n",
            "Epoch 4/5 - Train Loss: 0.1788 - Validation Loss: 0.6321 - Accuracy: 0.8003\n",
            "Epoch 5/5 - Train Loss: 0.1094 - Validation Loss: 0.8380 - Accuracy: 0.7775\n"
          ]
        }
      ],
      "source": [
        "train_loss_list, val_loss_list, accuracy_list = fine_tune_and_validation_model(custom_model,num_epochs = 5)"
      ]
    },
    {
      "cell_type": "code",
      "execution_count": 30,
      "metadata": {
        "colab": {
          "base_uri": "https://localhost:8080/"
        },
        "id": "ZSfQsBsEbh-a",
        "outputId": "14c4bb43-143c-42d0-c1e1-fa3f0c01ef2e"
      },
      "outputs": [
        {
          "name": "stdout",
          "output_type": "stream",
          "text": [
            "Test Accuracy: 0.4322\n",
            "Test F1 Score: 0.4233\n",
            "Confusion Matrix:\n",
            "[[153 227 130]\n",
            " [119 322  78]\n",
            " [142 192 201]]\n"
          ]
        }
      ],
      "source": [
        "test_set_evaluation(model)"
      ]
    },
    {
      "cell_type": "code",
      "execution_count": 31,
      "metadata": {
        "colab": {
          "base_uri": "https://localhost:8080/",
          "height": 368
        },
        "id": "-Ly8oEl9bjgc",
        "outputId": "6940cdc0-d03d-4c7c-dbbb-7eab8bc81753"
      },
      "outputs": [
        {
          "data": {
            "image/png": "[encoded data removed]",
            "text/plain": [
              "<Figure size 1200x600 with 2 Axes>"
            ]
          },
          "metadata": {},
          "output_type": "display_data"
        }
      ],
      "source": [
        "plot_loss_accuracy_changes(train_loss_list, val_loss_list, accuracy_list)"
      ]
    },
    {
      "cell_type": "code",
      "execution_count": null,
      "metadata": {
        "id": "XqbOdCIKFkWn"
      },
      "outputs": [],
      "source": []
    },
    {
      "attachments": {},
      "cell_type": "markdown",
      "metadata": {
        "id": "MsAQR0plJQTo"
      },
      "source": [
        "## Q2.5"
      ]
    },
    {
      "cell_type": "code",
      "execution_count": null,
      "metadata": {
        "colab": {
          "base_uri": "https://localhost:8080/"
        },
        "id": "3Sf7WpI1UIS8",
        "outputId": "9fe852a2-3ab4-4852-9560-f089cd332ba9"
      },
      "outputs": [
        {
          "data": {
            "text/plain": [
              "12"
            ]
          },
          "execution_count": 16,
          "metadata": {},
          "output_type": "execute_result"
        }
      ],
      "source": [
        "print(\"num attention heads:\",model.config.num_attention_heads)\n",
        "print(\"num hidden layers:\",model.config.num_hidden_layers)\n",
        "print()"
      ]
    },
    {
      "cell_type": "code",
      "execution_count": null,
      "metadata": {
        "colab": {
          "base_uri": "https://localhost:8080/"
        },
        "id": "7GT4NQfbJUOF",
        "outputId": "79b906be-945f-4b6b-b13f-4c6542fcc548"
      },
      "outputs": [
        {
          "name": "stdout",
          "output_type": "stream",
          "text": [
            "[0] num_heads:12, prune_heads: [3, 6, 11, 5, 1, 2]\n",
            "[1] num_heads:12, prune_heads: [5, 4, 10, 9, 3, 1]\n",
            "[2] num_heads:12, prune_heads: [5, 9, 7, 1, 10, 8]\n",
            "[3] num_heads:12, prune_heads: [4, 7, 1, 10, 9, 5]\n",
            "[4] num_heads:12, prune_heads: [11, 1, 10, 5, 3, 7]\n",
            "[5] num_heads:12, prune_heads: [2, 0, 3, 10, 5, 7]\n",
            "[6] num_heads:12, prune_heads: [11, 2, 5, 8, 0, 9]\n",
            "[7] num_heads:12, prune_heads: [3, 6, 0, 11, 5, 4]\n",
            "[8] num_heads:12, prune_heads: [10, 9, 11, 0, 3, 6]\n",
            "[9] num_heads:12, prune_heads: [2, 6, 4, 0, 10, 5]\n",
            "[10] num_heads:12, prune_heads: [3, 6, 2, 8, 0, 9]\n",
            "[11] num_heads:12, prune_heads: [3, 10, 11, 9, 8, 0]\n"
          ]
        }
      ],
      "source": [
        "import random\n",
        "\n",
        "prune_percentage = 0.5\n",
        "\n",
        "for layer_idx in range(config.num_hidden_layers):\n",
        "    num_heads = config.num_attention_heads\n",
        "    num_heads_to_prune = int(num_heads * prune_percentage)\n",
        "    heads_to_prune = random.sample(range(num_heads), num_heads_to_prune)\n",
        "\n",
        "    model.bert.encoder.layer[layer_idx].attention.prune_heads(heads_to_prune)\n",
        "    print(f'[{layer_idx}] num_heads:{num_heads}, prune_heads: {heads_to_prune}')"
      ]
    },
    {
      "cell_type": "code",
      "execution_count": 43,
      "metadata": {
        "colab": {
          "base_uri": "https://localhost:8080/"
        },
        "id": "Ma8FbMlXedNx",
        "outputId": "650cd789-28f4-4272-cf13-56208efd9db4"
      },
      "outputs": [
        {
          "name": "stdout",
          "output_type": "stream",
          "text": [
            "[0]: num_heads: 6\n",
            "[1]: num_heads: 6\n",
            "[2]: num_heads: 6\n",
            "[3]: num_heads: 6\n",
            "[4]: num_heads: 6\n",
            "[5]: num_heads: 6\n",
            "[6]: num_heads: 6\n",
            "[7]: num_heads: 6\n",
            "[8]: num_heads: 6\n",
            "[9]: num_heads: 6\n",
            "[10]: num_heads: 6\n",
            "[11]: num_heads: 6\n"
          ]
        }
      ],
      "source": [
        "# Check if heads are pruned in each layer\n",
        "for layer_idx, layer in enumerate(model.bert.encoder.layer):\n",
        "        print(f\"[{layer_idx}]: num_heads: {layer.attention.self.num_attention_heads}\")"
      ]
    },
    {
      "cell_type": "code",
      "execution_count": 19,
      "metadata": {
        "colab": {
          "base_uri": "https://localhost:8080/"
        },
        "id": "sE7wvQUVU-yA",
        "outputId": "7900e64f-6142-478d-f915-7fa76109e9a7"
      },
      "outputs": [
        {
          "name": "stdout",
          "output_type": "stream",
          "text": [
            "Epoch 1/5 - Train Loss: 0.9722 - Validation Loss: 0.7599 - Accuracy: 0.6155\n",
            "Epoch 2/5 - Train Loss: 0.7015 - Validation Loss: 0.6896 - Accuracy: 0.6753\n",
            "Epoch 3/5 - Train Loss: 0.4792 - Validation Loss: 0.6814 - Accuracy: 0.7209\n",
            "Epoch 4/5 - Train Loss: 0.3323 - Validation Loss: 0.7410 - Accuracy: 0.7248\n",
            "Epoch 5/5 - Train Loss: 0.2275 - Validation Loss: 0.7660 - Accuracy: 0.7385\n"
          ]
        }
      ],
      "source": [
        "train_loss_list, val_loss_list, accuracy_list = fine_tune_and_validation_model(model,num_epochs = 5)"
      ]
    },
    {
      "cell_type": "code",
      "execution_count": 20,
      "metadata": {
        "colab": {
          "base_uri": "https://localhost:8080/"
        },
        "id": "CeOhwcc4Z4h9",
        "outputId": "a7b028d0-0087-4e50-b64f-d8715a02e272"
      },
      "outputs": [
        {
          "name": "stdout",
          "output_type": "stream",
          "text": [
            "Test Accuracy: 0.7743\n",
            "Test F1 Score: 0.7752\n",
            "Confusion Matrix:\n",
            "[[356  95  59]\n",
            " [ 88 411  20]\n",
            " [ 86   5 444]]\n"
          ]
        }
      ],
      "source": [
        "test_set_evaluation(model)"
      ]
    },
    {
      "cell_type": "code",
      "execution_count": 21,
      "metadata": {
        "colab": {
          "base_uri": "https://localhost:8080/",
          "height": 368
        },
        "id": "QYQ9_gjFX4QL",
        "outputId": "fe922f0e-83f0-471e-80b4-740ea790ad9a"
      },
      "outputs": [
        {
          "data": {
            "image/png": "[encoded data removed]",
            "text/plain": [
              "<Figure size 1200x600 with 2 Axes>"
            ]
          },
          "metadata": {},
          "output_type": "display_data"
        }
      ],
      "source": [
        "plot_loss_accuracy_changes(train_loss_list, val_loss_list, accuracy_list)"
      ]
    },
    {
      "cell_type": "code",
      "execution_count": null,
      "metadata": {
        "id": "5Ka0p0aCeOF-"
      },
      "outputs": [],
      "source": []
    }
  ],
  "metadata": {
    "accelerator": "GPU",
    "colab": {
      "provenance": []
    },
    "kernelspec": {
      "display_name": "Python 3",
      "name": "python3"
    },
    "language_info": {
      "name": "python"
    },
    "widgets": {
      "application/vnd.jupyter.widget-state+json": {
        "0e0767cf2b0c4491b72b2243fb0f1218": {
          "model_module": "@jupyter-widgets/controls",
          "model_module_version": "1.5.0",
          "model_name": "ProgressStyleModel",
          "state": {
            "_model_module": "@jupyter-widgets/controls",
            "_model_module_version": "1.5.0",
            "_model_name": "ProgressStyleModel",
            "_view_count": null,
            "_view_module": "@jupyter-widgets/base",
            "_view_module_version": "1.2.0",
            "_view_name": "StyleView",
            "bar_color": null,
            "description_width": ""
          }
        },
        "1c98aa3762ed41b79072fe671372983c": {
          "model_module": "@jupyter-widgets/controls",
          "model_module_version": "1.5.0",
          "model_name": "FloatProgressModel",
          "state": {
            "_dom_classes": [],
            "_model_module": "@jupyter-widgets/controls",
            "_model_module_version": "1.5.0",
            "_model_name": "FloatProgressModel",
            "_view_count": null,
            "_view_module": "@jupyter-widgets/controls",
            "_view_module_version": "1.5.0",
            "_view_name": "ProgressView",
            "bar_style": "success",
            "description": "",
            "description_tooltip": null,
            "layout": "IPY_MODEL_8a644f4d43cb45f8ac426bc98a282151",
            "max": 434,
            "min": 0,
            "orientation": "horizontal",
            "style": "IPY_MODEL_0e0767cf2b0c4491b72b2243fb0f1218",
            "value": 434
          }
        },
        "29499661a7cb42ec9171951cefcbb02a": {
          "model_module": "@jupyter-widgets/base",
          "model_module_version": "1.2.0",
          "model_name": "LayoutModel",
          "state": {
            "_model_module": "@jupyter-widgets/base",
            "_model_module_version": "1.2.0",
            "_model_name": "LayoutModel",
            "_view_count": null,
            "_view_module": "@jupyter-widgets/base",
            "_view_module_version": "1.2.0",
            "_view_name": "LayoutView",
            "align_content": null,
            "align_items": null,
            "align_self": null,
            "border": null,
            "bottom": null,
            "display": null,
            "flex": null,
            "flex_flow": null,
            "grid_area": null,
            "grid_auto_columns": null,
            "grid_auto_flow": null,
            "grid_auto_rows": null,
            "grid_column": null,
            "grid_gap": null,
            "grid_row": null,
            "grid_template_areas": null,
            "grid_template_columns": null,
            "grid_template_rows": null,
            "height": null,
            "justify_content": null,
            "justify_items": null,
            "left": null,
            "margin": null,
            "max_height": null,
            "max_width": null,
            "min_height": null,
            "min_width": null,
            "object_fit": null,
            "object_position": null,
            "order": null,
            "overflow": null,
            "overflow_x": null,
            "overflow_y": null,
            "padding": null,
            "right": null,
            "top": null,
            "visibility": null,
            "width": null
          }
        },
        "2d5dcd3e47c342c4b9eed1f8982874d2": {
          "model_module": "@jupyter-widgets/controls",
          "model_module_version": "1.5.0",
          "model_name": "DescriptionStyleModel",
          "state": {
            "_model_module": "@jupyter-widgets/controls",
            "_model_module_version": "1.5.0",
            "_model_name": "DescriptionStyleModel",
            "_view_count": null,
            "_view_module": "@jupyter-widgets/base",
            "_view_module_version": "1.2.0",
            "_view_name": "StyleView",
            "description_width": ""
          }
        },
        "3071668876eb4c8ca33ced11f9b0e027": {
          "model_module": "@jupyter-widgets/controls",
          "model_module_version": "1.5.0",
          "model_name": "FloatProgressModel",
          "state": {
            "_dom_classes": [],
            "_model_module": "@jupyter-widgets/controls",
            "_model_module_version": "1.5.0",
            "_model_name": "FloatProgressModel",
            "_view_count": null,
            "_view_module": "@jupyter-widgets/controls",
            "_view_module_version": "1.5.0",
            "_view_name": "ProgressView",
            "bar_style": "success",
            "description": "",
            "description_tooltip": null,
            "layout": "IPY_MODEL_9e0a1229a8dd4781827f2157e4aa81d6",
            "max": 654186735,
            "min": 0,
            "orientation": "horizontal",
            "style": "IPY_MODEL_3f0f96689be347628012cb5add40a0f1",
            "value": 654186735
          }
        },
        "3a5c413b687c4e1196caf96f7f9e8a41": {
          "model_module": "@jupyter-widgets/base",
          "model_module_version": "1.2.0",
          "model_name": "LayoutModel",
          "state": {
            "_model_module": "@jupyter-widgets/base",
            "_model_module_version": "1.2.0",
            "_model_name": "LayoutModel",
            "_view_count": null,
            "_view_module": "@jupyter-widgets/base",
            "_view_module_version": "1.2.0",
            "_view_name": "LayoutView",
            "align_content": null,
            "align_items": null,
            "align_self": null,
            "border": null,
            "bottom": null,
            "display": null,
            "flex": null,
            "flex_flow": null,
            "grid_area": null,
            "grid_auto_columns": null,
            "grid_auto_flow": null,
            "grid_auto_rows": null,
            "grid_column": null,
            "grid_gap": null,
            "grid_row": null,
            "grid_template_areas": null,
            "grid_template_columns": null,
            "grid_template_rows": null,
            "height": null,
            "justify_content": null,
            "justify_items": null,
            "left": null,
            "margin": null,
            "max_height": null,
            "max_width": null,
            "min_height": null,
            "min_width": null,
            "object_fit": null,
            "object_position": null,
            "order": null,
            "overflow": null,
            "overflow_x": null,
            "overflow_y": null,
            "padding": null,
            "right": null,
            "top": null,
            "visibility": null,
            "width": null
          }
        },
        "3f0f96689be347628012cb5add40a0f1": {
          "model_module": "@jupyter-widgets/controls",
          "model_module_version": "1.5.0",
          "model_name": "ProgressStyleModel",
          "state": {
            "_model_module": "@jupyter-widgets/controls",
            "_model_module_version": "1.5.0",
            "_model_name": "ProgressStyleModel",
            "_view_count": null,
            "_view_module": "@jupyter-widgets/base",
            "_view_module_version": "1.2.0",
            "_view_name": "StyleView",
            "bar_color": null,
            "description_width": ""
          }
        },
        "3fdeeed6d7754618b4d2d8935b2158e7": {
          "model_module": "@jupyter-widgets/base",
          "model_module_version": "1.2.0",
          "model_name": "LayoutModel",
          "state": {
            "_model_module": "@jupyter-widgets/base",
            "_model_module_version": "1.2.0",
            "_model_name": "LayoutModel",
            "_view_count": null,
            "_view_module": "@jupyter-widgets/base",
            "_view_module_version": "1.2.0",
            "_view_name": "LayoutView",
            "align_content": null,
            "align_items": null,
            "align_self": null,
            "border": null,
            "bottom": null,
            "display": null,
            "flex": null,
            "flex_flow": null,
            "grid_area": null,
            "grid_auto_columns": null,
            "grid_auto_flow": null,
            "grid_auto_rows": null,
            "grid_column": null,
            "grid_gap": null,
            "grid_row": null,
            "grid_template_areas": null,
            "grid_template_columns": null,
            "grid_template_rows": null,
            "height": null,
            "justify_content": null,
            "justify_items": null,
            "left": null,
            "margin": null,
            "max_height": null,
            "max_width": null,
            "min_height": null,
            "min_width": null,
            "object_fit": null,
            "object_position": null,
            "order": null,
            "overflow": null,
            "overflow_x": null,
            "overflow_y": null,
            "padding": null,
            "right": null,
            "top": null,
            "visibility": null,
            "width": null
          }
        },
        "418fe3fcf5f349de9b6daddd5e4c6155": {
          "model_module": "@jupyter-widgets/controls",
          "model_module_version": "1.5.0",
          "model_name": "HBoxModel",
          "state": {
            "_dom_classes": [],
            "_model_module": "@jupyter-widgets/controls",
            "_model_module_version": "1.5.0",
            "_model_name": "HBoxModel",
            "_view_count": null,
            "_view_module": "@jupyter-widgets/controls",
            "_view_module_version": "1.5.0",
            "_view_name": "HBoxView",
            "box_style": "",
            "children": [
              "IPY_MODEL_5f7872766d014062a818ce2e5c5bf51e",
              "IPY_MODEL_1c98aa3762ed41b79072fe671372983c",
              "IPY_MODEL_52bc6d386da945d79e68b3e4572df4a2"
            ],
            "layout": "IPY_MODEL_61ebd10e9ca24bd79f6966a18f975c33"
          }
        },
        "463727b5f50942dbb9f99afb791ec24f": {
          "model_module": "@jupyter-widgets/base",
          "model_module_version": "1.2.0",
          "model_name": "LayoutModel",
          "state": {
            "_model_module": "@jupyter-widgets/base",
            "_model_module_version": "1.2.0",
            "_model_name": "LayoutModel",
            "_view_count": null,
            "_view_module": "@jupyter-widgets/base",
            "_view_module_version": "1.2.0",
            "_view_name": "LayoutView",
            "align_content": null,
            "align_items": null,
            "align_self": null,
            "border": null,
            "bottom": null,
            "display": null,
            "flex": null,
            "flex_flow": null,
            "grid_area": null,
            "grid_auto_columns": null,
            "grid_auto_flow": null,
            "grid_auto_rows": null,
            "grid_column": null,
            "grid_gap": null,
            "grid_row": null,
            "grid_template_areas": null,
            "grid_template_columns": null,
            "grid_template_rows": null,
            "height": null,
            "justify_content": null,
            "justify_items": null,
            "left": null,
            "margin": null,
            "max_height": null,
            "max_width": null,
            "min_height": null,
            "min_width": null,
            "object_fit": null,
            "object_position": null,
            "order": null,
            "overflow": null,
            "overflow_x": null,
            "overflow_y": null,
            "padding": null,
            "right": null,
            "top": null,
            "visibility": null,
            "width": null
          }
        },
        "4ead2cc46ae74395a14b2a84088de361": {
          "model_module": "@jupyter-widgets/controls",
          "model_module_version": "1.5.0",
          "model_name": "HTMLModel",
          "state": {
            "_dom_classes": [],
            "_model_module": "@jupyter-widgets/controls",
            "_model_module_version": "1.5.0",
            "_model_name": "HTMLModel",
            "_view_count": null,
            "_view_module": "@jupyter-widgets/controls",
            "_view_module_version": "1.5.0",
            "_view_name": "HTMLView",
            "description": "",
            "description_tooltip": null,
            "layout": "IPY_MODEL_b444b3cfb63246fab37aba4c13769f48",
            "placeholder": "​",
            "style": "IPY_MODEL_f9c148e0e29f4f629c795b30f8bd7d23",
            "value": " 654M/654M [00:02&lt;00:00, 283MB/s]"
          }
        },
        "52bc6d386da945d79e68b3e4572df4a2": {
          "model_module": "@jupyter-widgets/controls",
          "model_module_version": "1.5.0",
          "model_name": "HTMLModel",
          "state": {
            "_dom_classes": [],
            "_model_module": "@jupyter-widgets/controls",
            "_model_module_version": "1.5.0",
            "_model_name": "HTMLModel",
            "_view_count": null,
            "_view_module": "@jupyter-widgets/controls",
            "_view_module_version": "1.5.0",
            "_view_name": "HTMLView",
            "description": "",
            "description_tooltip": null,
            "layout": "IPY_MODEL_853b6229b797464db9a31814db4dcb33",
            "placeholder": "​",
            "style": "IPY_MODEL_af4a5a0f3deb4fb1903336d8ce73579b",
            "value": " 434/434 [00:00&lt;00:00, 19.0kB/s]"
          }
        },
        "5d33a9f601d146e8bdb1bcfc433b92fd": {
          "model_module": "@jupyter-widgets/controls",
          "model_module_version": "1.5.0",
          "model_name": "HTMLModel",
          "state": {
            "_dom_classes": [],
            "_model_module": "@jupyter-widgets/controls",
            "_model_module_version": "1.5.0",
            "_model_name": "HTMLModel",
            "_view_count": null,
            "_view_module": "@jupyter-widgets/controls",
            "_view_module_version": "1.5.0",
            "_view_name": "HTMLView",
            "description": "",
            "description_tooltip": null,
            "layout": "IPY_MODEL_f05cd32df60e49d282e52458452c53cb",
            "placeholder": "​",
            "style": "IPY_MODEL_5ff6e193c2394b998365aeee47e6ee07",
            "value": "vocab.txt: 100%"
          }
        },
        "5f7872766d014062a818ce2e5c5bf51e": {
          "model_module": "@jupyter-widgets/controls",
          "model_module_version": "1.5.0",
          "model_name": "HTMLModel",
          "state": {
            "_dom_classes": [],
            "_model_module": "@jupyter-widgets/controls",
            "_model_module_version": "1.5.0",
            "_model_name": "HTMLModel",
            "_view_count": null,
            "_view_module": "@jupyter-widgets/controls",
            "_view_module_version": "1.5.0",
            "_view_name": "HTMLView",
            "description": "",
            "description_tooltip": null,
            "layout": "IPY_MODEL_fb10da548a7645678bec37e5308c757d",
            "placeholder": "​",
            "style": "IPY_MODEL_2d5dcd3e47c342c4b9eed1f8982874d2",
            "value": "config.json: 100%"
          }
        },
        "5ff6e193c2394b998365aeee47e6ee07": {
          "model_module": "@jupyter-widgets/controls",
          "model_module_version": "1.5.0",
          "model_name": "DescriptionStyleModel",
          "state": {
            "_model_module": "@jupyter-widgets/controls",
            "_model_module_version": "1.5.0",
            "_model_name": "DescriptionStyleModel",
            "_view_count": null,
            "_view_module": "@jupyter-widgets/base",
            "_view_module_version": "1.2.0",
            "_view_name": "StyleView",
            "description_width": ""
          }
        },
        "61ebd10e9ca24bd79f6966a18f975c33": {
          "model_module": "@jupyter-widgets/base",
          "model_module_version": "1.2.0",
          "model_name": "LayoutModel",
          "state": {
            "_model_module": "@jupyter-widgets/base",
            "_model_module_version": "1.2.0",
            "_model_name": "LayoutModel",
            "_view_count": null,
            "_view_module": "@jupyter-widgets/base",
            "_view_module_version": "1.2.0",
            "_view_name": "LayoutView",
            "align_content": null,
            "align_items": null,
            "align_self": null,
            "border": null,
            "bottom": null,
            "display": null,
            "flex": null,
            "flex_flow": null,
            "grid_area": null,
            "grid_auto_columns": null,
            "grid_auto_flow": null,
            "grid_auto_rows": null,
            "grid_column": null,
            "grid_gap": null,
            "grid_row": null,
            "grid_template_areas": null,
            "grid_template_columns": null,
            "grid_template_rows": null,
            "height": null,
            "justify_content": null,
            "justify_items": null,
            "left": null,
            "margin": null,
            "max_height": null,
            "max_width": null,
            "min_height": null,
            "min_width": null,
            "object_fit": null,
            "object_position": null,
            "order": null,
            "overflow": null,
            "overflow_x": null,
            "overflow_y": null,
            "padding": null,
            "right": null,
            "top": null,
            "visibility": null,
            "width": null
          }
        },
        "6e4aa2dc0ebe4bd4a0bc36e605e08a78": {
          "model_module": "@jupyter-widgets/controls",
          "model_module_version": "1.5.0",
          "model_name": "FloatProgressModel",
          "state": {
            "_dom_classes": [],
            "_model_module": "@jupyter-widgets/controls",
            "_model_module_version": "1.5.0",
            "_model_name": "FloatProgressModel",
            "_view_count": null,
            "_view_module": "@jupyter-widgets/controls",
            "_view_module_version": "1.5.0",
            "_view_name": "ProgressView",
            "bar_style": "success",
            "description": "",
            "description_tooltip": null,
            "layout": "IPY_MODEL_3a5c413b687c4e1196caf96f7f9e8a41",
            "max": 1215509,
            "min": 0,
            "orientation": "horizontal",
            "style": "IPY_MODEL_dd370b86fb6644f1ac438a7b002e0ac2",
            "value": 1215509
          }
        },
        "76d7a9d628c846838a4a7b6eb837ca9c": {
          "model_module": "@jupyter-widgets/controls",
          "model_module_version": "1.5.0",
          "model_name": "HTMLModel",
          "state": {
            "_dom_classes": [],
            "_model_module": "@jupyter-widgets/controls",
            "_model_module_version": "1.5.0",
            "_model_name": "HTMLModel",
            "_view_count": null,
            "_view_module": "@jupyter-widgets/controls",
            "_view_module_version": "1.5.0",
            "_view_name": "HTMLView",
            "description": "",
            "description_tooltip": null,
            "layout": "IPY_MODEL_29499661a7cb42ec9171951cefcbb02a",
            "placeholder": "​",
            "style": "IPY_MODEL_fdce13c2e01c4d089cf1de1025751d4d",
            "value": " 1.22M/1.22M [00:00&lt;00:00, 1.63MB/s]"
          }
        },
        "853b6229b797464db9a31814db4dcb33": {
          "model_module": "@jupyter-widgets/base",
          "model_module_version": "1.2.0",
          "model_name": "LayoutModel",
          "state": {
            "_model_module": "@jupyter-widgets/base",
            "_model_module_version": "1.2.0",
            "_model_name": "LayoutModel",
            "_view_count": null,
            "_view_module": "@jupyter-widgets/base",
            "_view_module_version": "1.2.0",
            "_view_name": "LayoutView",
            "align_content": null,
            "align_items": null,
            "align_self": null,
            "border": null,
            "bottom": null,
            "display": null,
            "flex": null,
            "flex_flow": null,
            "grid_area": null,
            "grid_auto_columns": null,
            "grid_auto_flow": null,
            "grid_auto_rows": null,
            "grid_column": null,
            "grid_gap": null,
            "grid_row": null,
            "grid_template_areas": null,
            "grid_template_columns": null,
            "grid_template_rows": null,
            "height": null,
            "justify_content": null,
            "justify_items": null,
            "left": null,
            "margin": null,
            "max_height": null,
            "max_width": null,
            "min_height": null,
            "min_width": null,
            "object_fit": null,
            "object_position": null,
            "order": null,
            "overflow": null,
            "overflow_x": null,
            "overflow_y": null,
            "padding": null,
            "right": null,
            "top": null,
            "visibility": null,
            "width": null
          }
        },
        "8a644f4d43cb45f8ac426bc98a282151": {
          "model_module": "@jupyter-widgets/base",
          "model_module_version": "1.2.0",
          "model_name": "LayoutModel",
          "state": {
            "_model_module": "@jupyter-widgets/base",
            "_model_module_version": "1.2.0",
            "_model_name": "LayoutModel",
            "_view_count": null,
            "_view_module": "@jupyter-widgets/base",
            "_view_module_version": "1.2.0",
            "_view_name": "LayoutView",
            "align_content": null,
            "align_items": null,
            "align_self": null,
            "border": null,
            "bottom": null,
            "display": null,
            "flex": null,
            "flex_flow": null,
            "grid_area": null,
            "grid_auto_columns": null,
            "grid_auto_flow": null,
            "grid_auto_rows": null,
            "grid_column": null,
            "grid_gap": null,
            "grid_row": null,
            "grid_template_areas": null,
            "grid_template_columns": null,
            "grid_template_rows": null,
            "height": null,
            "justify_content": null,
            "justify_items": null,
            "left": null,
            "margin": null,
            "max_height": null,
            "max_width": null,
            "min_height": null,
            "min_width": null,
            "object_fit": null,
            "object_position": null,
            "order": null,
            "overflow": null,
            "overflow_x": null,
            "overflow_y": null,
            "padding": null,
            "right": null,
            "top": null,
            "visibility": null,
            "width": null
          }
        },
        "9e0a1229a8dd4781827f2157e4aa81d6": {
          "model_module": "@jupyter-widgets/base",
          "model_module_version": "1.2.0",
          "model_name": "LayoutModel",
          "state": {
            "_model_module": "@jupyter-widgets/base",
            "_model_module_version": "1.2.0",
            "_model_name": "LayoutModel",
            "_view_count": null,
            "_view_module": "@jupyter-widgets/base",
            "_view_module_version": "1.2.0",
            "_view_name": "LayoutView",
            "align_content": null,
            "align_items": null,
            "align_self": null,
            "border": null,
            "bottom": null,
            "display": null,
            "flex": null,
            "flex_flow": null,
            "grid_area": null,
            "grid_auto_columns": null,
            "grid_auto_flow": null,
            "grid_auto_rows": null,
            "grid_column": null,
            "grid_gap": null,
            "grid_row": null,
            "grid_template_areas": null,
            "grid_template_columns": null,
            "grid_template_rows": null,
            "height": null,
            "justify_content": null,
            "justify_items": null,
            "left": null,
            "margin": null,
            "max_height": null,
            "max_width": null,
            "min_height": null,
            "min_width": null,
            "object_fit": null,
            "object_position": null,
            "order": null,
            "overflow": null,
            "overflow_x": null,
            "overflow_y": null,
            "padding": null,
            "right": null,
            "top": null,
            "visibility": null,
            "width": null
          }
        },
        "9f7fe0412e684c2a9f17dd13bb2f7e24": {
          "model_module": "@jupyter-widgets/controls",
          "model_module_version": "1.5.0",
          "model_name": "HBoxModel",
          "state": {
            "_dom_classes": [],
            "_model_module": "@jupyter-widgets/controls",
            "_model_module_version": "1.5.0",
            "_model_name": "HBoxModel",
            "_view_count": null,
            "_view_module": "@jupyter-widgets/controls",
            "_view_module_version": "1.5.0",
            "_view_name": "HBoxView",
            "box_style": "",
            "children": [
              "IPY_MODEL_c37a8996eab24318b7b279a07a815fde",
              "IPY_MODEL_3071668876eb4c8ca33ced11f9b0e027",
              "IPY_MODEL_4ead2cc46ae74395a14b2a84088de361"
            ],
            "layout": "IPY_MODEL_3fdeeed6d7754618b4d2d8935b2158e7"
          }
        },
        "a56dccd5a4cf4e4d9b2ed680522fb59e": {
          "model_module": "@jupyter-widgets/controls",
          "model_module_version": "1.5.0",
          "model_name": "DescriptionStyleModel",
          "state": {
            "_model_module": "@jupyter-widgets/controls",
            "_model_module_version": "1.5.0",
            "_model_name": "DescriptionStyleModel",
            "_view_count": null,
            "_view_module": "@jupyter-widgets/base",
            "_view_module_version": "1.2.0",
            "_view_name": "StyleView",
            "description_width": ""
          }
        },
        "af4a5a0f3deb4fb1903336d8ce73579b": {
          "model_module": "@jupyter-widgets/controls",
          "model_module_version": "1.5.0",
          "model_name": "DescriptionStyleModel",
          "state": {
            "_model_module": "@jupyter-widgets/controls",
            "_model_module_version": "1.5.0",
            "_model_name": "DescriptionStyleModel",
            "_view_count": null,
            "_view_module": "@jupyter-widgets/base",
            "_view_module_version": "1.2.0",
            "_view_name": "StyleView",
            "description_width": ""
          }
        },
        "b01ae256be9b40e1a7c373d9fca67683": {
          "model_module": "@jupyter-widgets/base",
          "model_module_version": "1.2.0",
          "model_name": "LayoutModel",
          "state": {
            "_model_module": "@jupyter-widgets/base",
            "_model_module_version": "1.2.0",
            "_model_name": "LayoutModel",
            "_view_count": null,
            "_view_module": "@jupyter-widgets/base",
            "_view_module_version": "1.2.0",
            "_view_name": "LayoutView",
            "align_content": null,
            "align_items": null,
            "align_self": null,
            "border": null,
            "bottom": null,
            "display": null,
            "flex": null,
            "flex_flow": null,
            "grid_area": null,
            "grid_auto_columns": null,
            "grid_auto_flow": null,
            "grid_auto_rows": null,
            "grid_column": null,
            "grid_gap": null,
            "grid_row": null,
            "grid_template_areas": null,
            "grid_template_columns": null,
            "grid_template_rows": null,
            "height": null,
            "justify_content": null,
            "justify_items": null,
            "left": null,
            "margin": null,
            "max_height": null,
            "max_width": null,
            "min_height": null,
            "min_width": null,
            "object_fit": null,
            "object_position": null,
            "order": null,
            "overflow": null,
            "overflow_x": null,
            "overflow_y": null,
            "padding": null,
            "right": null,
            "top": null,
            "visibility": null,
            "width": null
          }
        },
        "b444b3cfb63246fab37aba4c13769f48": {
          "model_module": "@jupyter-widgets/base",
          "model_module_version": "1.2.0",
          "model_name": "LayoutModel",
          "state": {
            "_model_module": "@jupyter-widgets/base",
            "_model_module_version": "1.2.0",
            "_model_name": "LayoutModel",
            "_view_count": null,
            "_view_module": "@jupyter-widgets/base",
            "_view_module_version": "1.2.0",
            "_view_name": "LayoutView",
            "align_content": null,
            "align_items": null,
            "align_self": null,
            "border": null,
            "bottom": null,
            "display": null,
            "flex": null,
            "flex_flow": null,
            "grid_area": null,
            "grid_auto_columns": null,
            "grid_auto_flow": null,
            "grid_auto_rows": null,
            "grid_column": null,
            "grid_gap": null,
            "grid_row": null,
            "grid_template_areas": null,
            "grid_template_columns": null,
            "grid_template_rows": null,
            "height": null,
            "justify_content": null,
            "justify_items": null,
            "left": null,
            "margin": null,
            "max_height": null,
            "max_width": null,
            "min_height": null,
            "min_width": null,
            "object_fit": null,
            "object_position": null,
            "order": null,
            "overflow": null,
            "overflow_x": null,
            "overflow_y": null,
            "padding": null,
            "right": null,
            "top": null,
            "visibility": null,
            "width": null
          }
        },
        "c37a8996eab24318b7b279a07a815fde": {
          "model_module": "@jupyter-widgets/controls",
          "model_module_version": "1.5.0",
          "model_name": "HTMLModel",
          "state": {
            "_dom_classes": [],
            "_model_module": "@jupyter-widgets/controls",
            "_model_module_version": "1.5.0",
            "_model_name": "HTMLModel",
            "_view_count": null,
            "_view_module": "@jupyter-widgets/controls",
            "_view_module_version": "1.5.0",
            "_view_name": "HTMLView",
            "description": "",
            "description_tooltip": null,
            "layout": "IPY_MODEL_463727b5f50942dbb9f99afb791ec24f",
            "placeholder": "​",
            "style": "IPY_MODEL_a56dccd5a4cf4e4d9b2ed680522fb59e",
            "value": "pytorch_model.bin: 100%"
          }
        },
        "dd370b86fb6644f1ac438a7b002e0ac2": {
          "model_module": "@jupyter-widgets/controls",
          "model_module_version": "1.5.0",
          "model_name": "ProgressStyleModel",
          "state": {
            "_model_module": "@jupyter-widgets/controls",
            "_model_module_version": "1.5.0",
            "_model_name": "ProgressStyleModel",
            "_view_count": null,
            "_view_module": "@jupyter-widgets/base",
            "_view_module_version": "1.2.0",
            "_view_name": "StyleView",
            "bar_color": null,
            "description_width": ""
          }
        },
        "dff7585f74294e76a6ebfe998090d31f": {
          "model_module": "@jupyter-widgets/controls",
          "model_module_version": "1.5.0",
          "model_name": "HBoxModel",
          "state": {
            "_dom_classes": [],
            "_model_module": "@jupyter-widgets/controls",
            "_model_module_version": "1.5.0",
            "_model_name": "HBoxModel",
            "_view_count": null,
            "_view_module": "@jupyter-widgets/controls",
            "_view_module_version": "1.5.0",
            "_view_name": "HBoxView",
            "box_style": "",
            "children": [
              "IPY_MODEL_5d33a9f601d146e8bdb1bcfc433b92fd",
              "IPY_MODEL_6e4aa2dc0ebe4bd4a0bc36e605e08a78",
              "IPY_MODEL_76d7a9d628c846838a4a7b6eb837ca9c"
            ],
            "layout": "IPY_MODEL_b01ae256be9b40e1a7c373d9fca67683"
          }
        },
        "f05cd32df60e49d282e52458452c53cb": {
          "model_module": "@jupyter-widgets/base",
          "model_module_version": "1.2.0",
          "model_name": "LayoutModel",
          "state": {
            "_model_module": "@jupyter-widgets/base",
            "_model_module_version": "1.2.0",
            "_model_name": "LayoutModel",
            "_view_count": null,
            "_view_module": "@jupyter-widgets/base",
            "_view_module_version": "1.2.0",
            "_view_name": "LayoutView",
            "align_content": null,
            "align_items": null,
            "align_self": null,
            "border": null,
            "bottom": null,
            "display": null,
            "flex": null,
            "flex_flow": null,
            "grid_area": null,
            "grid_auto_columns": null,
            "grid_auto_flow": null,
            "grid_auto_rows": null,
            "grid_column": null,
            "grid_gap": null,
            "grid_row": null,
            "grid_template_areas": null,
            "grid_template_columns": null,
            "grid_template_rows": null,
            "height": null,
            "justify_content": null,
            "justify_items": null,
            "left": null,
            "margin": null,
            "max_height": null,
            "max_width": null,
            "min_height": null,
            "min_width": null,
            "object_fit": null,
            "object_position": null,
            "order": null,
            "overflow": null,
            "overflow_x": null,
            "overflow_y": null,
            "padding": null,
            "right": null,
            "top": null,
            "visibility": null,
            "width": null
          }
        },
        "f9c148e0e29f4f629c795b30f8bd7d23": {
          "model_module": "@jupyter-widgets/controls",
          "model_module_version": "1.5.0",
          "model_name": "DescriptionStyleModel",
          "state": {
            "_model_module": "@jupyter-widgets/controls",
            "_model_module_version": "1.5.0",
            "_model_name": "DescriptionStyleModel",
            "_view_count": null,
            "_view_module": "@jupyter-widgets/base",
            "_view_module_version": "1.2.0",
            "_view_name": "StyleView",
            "description_width": ""
          }
        },
        "fb10da548a7645678bec37e5308c757d": {
          "model_module": "@jupyter-widgets/base",
          "model_module_version": "1.2.0",
          "model_name": "LayoutModel",
          "state": {
            "_model_module": "@jupyter-widgets/base",
            "_model_module_version": "1.2.0",
            "_model_name": "LayoutModel",
            "_view_count": null,
            "_view_module": "@jupyter-widgets/base",
            "_view_module_version": "1.2.0",
            "_view_name": "LayoutView",
            "align_content": null,
            "align_items": null,
            "align_self": null,
            "border": null,
            "bottom": null,
            "display": null,
            "flex": null,
            "flex_flow": null,
            "grid_area": null,
            "grid_auto_columns": null,
            "grid_auto_flow": null,
            "grid_auto_rows": null,
            "grid_column": null,
            "grid_gap": null,
            "grid_row": null,
            "grid_template_areas": null,
            "grid_template_columns": null,
            "grid_template_rows": null,
            "height": null,
            "justify_content": null,
            "justify_items": null,
            "left": null,
            "margin": null,
            "max_height": null,
            "max_width": null,
            "min_height": null,
            "min_width": null,
            "object_fit": null,
            "object_position": null,
            "order": null,
            "overflow": null,
            "overflow_x": null,
            "overflow_y": null,
            "padding": null,
            "right": null,
            "top": null,
            "visibility": null,
            "width": null
          }
        },
        "fdce13c2e01c4d089cf1de1025751d4d": {
          "model_module": "@jupyter-widgets/controls",
          "model_module_version": "1.5.0",
          "model_name": "DescriptionStyleModel",
          "state": {
            "_model_module": "@jupyter-widgets/controls",
            "_model_module_version": "1.5.0",
            "_model_name": "DescriptionStyleModel",
            "_view_count": null,
            "_view_module": "@jupyter-widgets/base",
            "_view_module_version": "1.2.0",
            "_view_name": "StyleView",
            "description_width": ""
          }
        }
      }
    }
  },
  "nbformat": 4,
  "nbformat_minor": 0
}
